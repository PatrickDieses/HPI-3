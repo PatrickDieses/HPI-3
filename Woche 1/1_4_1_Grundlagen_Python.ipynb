{
  "nbformat": 4,
  "nbformat_minor": 5,
  "metadata": {
    "celltoolbar": "Slideshow",
    "kernelspec": {
      "display_name": "Python 3 (ipykernel)",
      "language": "python",
      "name": "python3"
    },
    "language_info": {
      "codemirror_mode": {
        "name": "ipython",
        "version": 3
      },
      "file_extension": ".py",
      "mimetype": "text/x-python",
      "name": "python",
      "nbconvert_exporter": "python",
      "pygments_lexer": "ipython3",
      "version": "3.7.10"
    },
    "colab": {
      "name": "1.4_1 Grundlagen Python.ipynb",
      "provenance": [],
      "collapsed_sections": [],
      "include_colab_link": true
    }
  },
  "cells": [
    {
      "cell_type": "markdown",
      "source": [
        "<a href=\"https://colab.research.google.com/github/christianwarmuth/openhpi-kipraxis/blob/main/Woche%201/1_4_1_Grundlagen_Python.ipynb\" target=\"_parent\"><img src=\"https://colab.research.google.com/assets/colab-badge.svg\" alt=\"Open In Colab\"/></a>"
      ],
      "metadata": {
        "id": "view-in-github",
        "colab_type": "text"
      }
    },
    {
      "cell_type": "markdown",
      "source": [
        "# 1.4 Grundlagen in Python\n",
        "\n",
        "<img width=450px src=\"https://www.python.org/static/community_logos/python-logo-master-v3-TM.png\">\n",
        "\n",
        "\n",
        "<sub><sup>\n",
        "    Von www.python.org - www.python.org, <a href=\"http://www.gnu.org/licenses/gpl.html\" title=\"GNU General Public License\">GPL</a>, <a href=\"https://commons.wikimedia.org/w/index.php?curid=34991651\">Link</a>\n",
        "    \n",
        "</sup></sub>"
      ],
      "metadata": {
        "id": "a9d95db2"
      }
    },
    {
      "cell_type": "markdown",
      "source": [
        "[Python](https://www.python.org/) gehört derzeit zu den beliebtesten Programmiersprachen weltweit und wird vielfältig eingesetzt.\n",
        "\n",
        "Besonders überzeugt Python durch:\n",
        "- eine sehr einfache Syntax\n",
        "- plattformunabhängig\n",
        "- eine starke Entwickler-Community\n",
        "\n",
        "Wir schauen uns nun die Grundlagen von Python an, damit die folgenden Projekte besser nachvollziehbar sind."
      ],
      "metadata": {
        "id": "9140c5dc"
      }
    },
    {
      "cell_type": "markdown",
      "source": [
        "<h2>Wie im vorangegangenen Kurs gilt, dass Programmierkenntnisse <span style=\"color:red\">nicht</span> notwendig sind!</h2>\n",
        "\n",
        "Wir werden alle Code-Abschnitte so erläutern, dass nicht die Technik dahinter, sondern die Anwendung im Vordergrund steht."
      ],
      "metadata": {
        "id": "f1073a34"
      }
    },
    {
      "cell_type": "markdown",
      "source": [
        "## Datentypen und Variablen\n",
        "In der Programmierung arbeiten wir mit verschiedenen **Datentypen**; dazu gehören unter anderem \n",
        "- Zahlen (123, -987, 23.234), \n",
        "- Zeichenketten (\"Hallo liebe Kursteilnehmer\"), \n",
        "- oder auch Bedingungen (42 > 0)\n",
        "\n",
        "Wir speichern konkrete Werte dieser Datentypen in sogenannten **Variablen** ab:"
      ],
      "metadata": {
        "id": "f103ea1a"
      }
    },
    {
      "cell_type": "code",
      "execution_count": null,
      "source": [
        "eine_zahl = 42\n",
        "noch_eine_zahl = 2\n",
        "eine_zeichenkette = \"Hallo liebe KursteilnehmerInnen\""
      ],
      "outputs": [],
      "metadata": {
        "id": "22550324"
      }
    },
    {
      "cell_type": "markdown",
      "source": [
        "Wir greifen kurz zwei Dinge vorweg, die wir gleich genauer betrachten werden:\n",
        "- `print`: Hiermit können wir allerlei Daten ausgeben lassen\n",
        "- `type`: Zeigt den Datentyp einer Variable an\n",
        "\n",
        "Damit können wir sehen, welche Datentypen unsere Variablen haben:"
      ],
      "metadata": {
        "id": "d685dc90"
      }
    },
    {
      "cell_type": "code",
      "execution_count": null,
      "source": [
        "print(type(eine_zahl))\n",
        "print(type(noch_eine_zahl))\n",
        "print(type(eine_zeichenkette))"
      ],
      "outputs": [],
      "metadata": {
        "id": "ce051b3a"
      }
    },
    {
      "cell_type": "markdown",
      "source": [
        "Python bietet unter anderem folgende Datentypen an:\n",
        "- `int`: ganze Zahlen (12, -214)\n",
        "- `float`: Dezimalzahlen (0.429, -1241)\n",
        "- `bool`: Wahrheitsangaben (True/False)\n",
        "- `str`: Zeichenketten (\"Hallo liebe Kursteilnehmer\", \"Christian\", \"Johannes\")\n",
        "- `list`: Listen von Daten ([\"Hallo liebe Kursteilnehmer\", \"Christian\"])\n",
        "- `dict`: Schlüssel-Wert Angaben ({\"anzahl_teilnehmer\": 3000})\n",
        "\n",
        "Darüber hinaus gibt es noch weitere, wie etwa `bytes`, `complex`, `tuple`, die bei [W3Schools](https://www.w3schools.com/python/python_datatypes.asp) gefunden werden können."
      ],
      "metadata": {
        "id": "22f346b2"
      }
    },
    {
      "cell_type": "markdown",
      "source": [
        "## Kommentare\n",
        "Neben Variablen und Konstanten gibt es auch die Möglichkeit, Kommentare im Code zu setzen.\n",
        "\n",
        "Wir werden dies direkt nutzen, um im Code selbst Stellen zu erklären."
      ],
      "metadata": {
        "id": "5dd4f5d5"
      }
    },
    {
      "cell_type": "code",
      "execution_count": null,
      "source": [
        "# Kommentare werden über eine Raute eingeleitet\n",
        "print(\"Das ist eine Konstante\") # hier geben wir eine einfache Zeichenkette aus"
      ],
      "outputs": [],
      "metadata": {
        "scrolled": true,
        "id": "5b323de3"
      }
    },
    {
      "cell_type": "markdown",
      "source": [
        "## Operationen\n",
        "Auf Variablen können nun verschiedenste **Operationen** ausgeführt werden. \n",
        "\n",
        "Für Zahlen liegen etwa arithmetische Operationen nahe:"
      ],
      "metadata": {
        "id": "f8d310f2"
      }
    },
    {
      "cell_type": "code",
      "execution_count": null,
      "source": [
        "print(eine_zahl + noch_eine_zahl)\n",
        "print(eine_zahl - noch_eine_zahl)\n",
        "print(eine_zahl * noch_eine_zahl)\n",
        "print(eine_zahl / noch_eine_zahl)"
      ],
      "outputs": [],
      "metadata": {
        "id": "e4fc82fc"
      }
    },
    {
      "cell_type": "markdown",
      "source": [
        "Wir sehen, dass die letzte Operation eine leicht andere Ausgabe hat, als die ersten drei Operationen.\n",
        "\n",
        "Geben wir hierzu den Datentyp aus, erkennen wir einen Unterschied:"
      ],
      "metadata": {
        "id": "5ce94585"
      }
    },
    {
      "cell_type": "code",
      "execution_count": null,
      "source": [
        "print(type(eine_zahl / noch_eine_zahl))"
      ],
      "outputs": [],
      "metadata": {
        "id": "ff4d36eb"
      }
    },
    {
      "cell_type": "markdown",
      "source": [
        "Python managed für uns automatisiert den Datentypen.\n",
        "\n",
        "Da eine Division potenziell zu Kommastellen führt, wird ein `int` in einen `float` transformiert.\n",
        "\n",
        "So versteht Python etwa auch, dass wir keine Zahlen zu Sätzen hinzufügen können:"
      ],
      "metadata": {
        "id": "e3fc1c2d"
      }
    },
    {
      "cell_type": "code",
      "execution_count": null,
      "source": [
        "print(eine_zeichenkette + eine_zahl)"
      ],
      "outputs": [],
      "metadata": {
        "id": "e76d8405"
      }
    },
    {
      "cell_type": "markdown",
      "source": [
        "Wenn wir möchten, können wir das aber auch selbst übernehmen, und angeben, welchen Datentyp eine Variable haben soll.\n",
        "\n",
        "So kann Python etwa Zeichenketten über ein `+` miteinander kombinieren. Diese Operation entspricht einer Konkatenation."
      ],
      "metadata": {
        "id": "6ecdd067"
      }
    },
    {
      "cell_type": "code",
      "execution_count": null,
      "source": [
        "print(eine_zeichenkette + str(eine_zahl))"
      ],
      "outputs": [],
      "metadata": {
        "id": "004ebfed"
      }
    },
    {
      "cell_type": "markdown",
      "source": [
        "## Funktionen\n",
        "\n",
        "Ein solches Verhalten können wir als Python **Funktion** ausdrücken.\n",
        "\n",
        "Eine Funktion entspricht einer Maschine, die Eingaben verarbeitet, um Ausgaben zu produzieren."
      ],
      "metadata": {
        "id": "d71adeec"
      }
    },
    {
      "cell_type": "code",
      "execution_count": null,
      "source": [
        "def addiere_zwei_zahlen(erste_zahl, zweite_zahl):\n",
        "    print(\"Ich addiere \" + str(erste_zahl) + \" und \" + str(zweite_zahl))\n",
        "    summe = erste_zahl + zweite_zahl\n",
        "    return summe"
      ],
      "outputs": [],
      "metadata": {
        "id": "a3a51769"
      }
    },
    {
      "cell_type": "markdown",
      "source": [
        "Die Bezeichnung der Variablen gilt dabei nur im Rahmen der Funktionsdefinition. \n",
        "\n",
        "Wir können nun jede Variable - oder auch Konstante - übergeben, die wir möchten."
      ],
      "metadata": {
        "id": "0e739b09"
      }
    },
    {
      "cell_type": "code",
      "execution_count": null,
      "source": [
        "print(addiere_zwei_zahlen(eine_zahl, noch_eine_zahl))\n",
        "print(addiere_zwei_zahlen(60, 40))"
      ],
      "outputs": [],
      "metadata": {
        "id": "55678bc3"
      }
    },
    {
      "cell_type": "markdown",
      "source": [
        "Wenn wir dabei Parameter übergeben, die nicht von unserer Funktion verarbeitet werden können, erzeugen wir einen Fehler:"
      ],
      "metadata": {
        "id": "cc9c4944"
      }
    },
    {
      "cell_type": "code",
      "execution_count": null,
      "source": [
        "print(addiere_zwei_zahlen(\"Das wird einen Fehler erzeugen\", 40))"
      ],
      "outputs": [],
      "metadata": {
        "id": "90d9b33c"
      }
    },
    {
      "cell_type": "markdown",
      "source": [
        "Das Ergebnis einer Funktion können wir dabei natürlich ebenfalls wieder als Eingabe für eine andere Funktion verwenden, oder erstmal als Variable abspeichern:"
      ],
      "metadata": {
        "id": "788d5dad"
      }
    },
    {
      "cell_type": "code",
      "execution_count": null,
      "source": [
        "eine_summe = addiere_zwei_zahlen(eine_zahl, noch_eine_zahl)\n",
        "print(eine_summe)"
      ],
      "outputs": [],
      "metadata": {
        "id": "8622bc0a"
      }
    },
    {
      "cell_type": "markdown",
      "source": [
        "`print` und `type` sind ebenfalls Funktionen:\n",
        "- `print` nimmt als Parameter eine Variable oder Konstante, und schreibt das Ergebnis in die Ausgabe\n",
        "- `type` nimmt als Parameter eine Variable oder Konstante, und gibt den sogenannten Klassennamen des Python Datentypen zurück\n",
        "\n",
        "Es gibt zahlreiche vordefinierte Python Funktionen, die wir nutzen können, ohne diese selbst zu schreiben.\n",
        "\n",
        "Im Laufe der Projekte werden wir auf zahlreiche solcher Funktionen schauen."
      ],
      "metadata": {
        "id": "b8bc1ee6"
      }
    }
  ]
}