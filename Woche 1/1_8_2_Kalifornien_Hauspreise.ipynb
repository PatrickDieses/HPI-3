{
  "nbformat": 4,
  "nbformat_minor": 5,
  "metadata": {
    "celltoolbar": "Slideshow",
    "kernelspec": {
      "display_name": "Python 3",
      "language": "python",
      "name": "python3"
    },
    "language_info": {
      "codemirror_mode": {
        "name": "ipython",
        "version": 3
      },
      "file_extension": ".py",
      "mimetype": "text/x-python",
      "name": "python",
      "nbconvert_exporter": "python",
      "pygments_lexer": "ipython3",
      "version": "3.9.5"
    },
    "colab": {
      "name": "1.9_2 Kalifornien Hauspreise.ipynb",
      "provenance": [],
      "collapsed_sections": [],
      "include_colab_link": true
    }
  },
  "cells": [
    {
      "cell_type": "markdown",
      "source": [
        "<a href=\"https://colab.research.google.com/github/christianwarmuth/openhpi-kipraxis/blob/main/Woche%201/1_9_2_Kalifornien_Hauspreise.ipynb\" target=\"_parent\"><img src=\"https://colab.research.google.com/assets/colab-badge.svg\" alt=\"Open In Colab\"/></a>"
      ],
      "metadata": {
        "id": "view-in-github",
        "colab_type": "text"
      }
    },
    {
      "cell_type": "code",
      "execution_count": null,
      "source": [
        "import os # u.a. zur Entwicklugn plattformübergreifender Systempfade\n",
        "import pandas as pd # Datenmanagement\n",
        "import numpy as np # Hilfsfunktionen für mathematische Operationen\n",
        "\n",
        "# Datenvisualisierung\n",
        "import seaborn as sns \n",
        "%matplotlib inline\n",
        "import matplotlib.pyplot as plt\n",
        "from pandas.plotting import scatter_matrix\n",
        "\n",
        "from sklearn.model_selection import StratifiedShuffleSplit, train_test_split # Datensplits\n",
        "from sklearn.linear_model import LinearRegression # Machine Learning\n",
        "from sklearn import metrics # Modellevaluierung"
      ],
      "outputs": [],
      "metadata": {
        "id": "7abbc9e3"
      }
    },
    {
      "cell_type": "code",
      "execution_count": null,
      "source": [
        "import os\n",
        "import tarfile\n",
        "import urllib.request\n",
        "import shutil\n",
        "import requests\n",
        "\n",
        "DOWNLOAD_ROOT = \"https://raw.githubusercontent.com/ageron/handson-ml2/master/\"\n",
        "HOUSING_PATH = os.getcwd()\n",
        "CALIFORNIA_URL = \"https://raw.githubusercontent.com/christianwarmuth/openhpi-kipraxis/main/images/california.png\"\n",
        "CALIFORNIA_PATH = \"california.png\"\n",
        "FILE_PATH = \"housing.csv\"\n",
        "HOUSING_URL = DOWNLOAD_ROOT + \"datasets/housing/housing.tgz\"\n",
        "\n",
        "response = requests.get(CALIFORNIA_URL, stream=True)\n",
        "with open(CALIFORNIA_PATH, 'wb') as out_file:\n",
        "    shutil.copyfileobj(response.raw, out_file)\n",
        "del response\n",
        "\n",
        "def fetch_housing_data(housing_url=HOUSING_URL, housing_path=HOUSING_PATH):\n",
        "    if not os.path.isdir(housing_path):\n",
        "        os.makedirs(housing_path)\n",
        "    tgz_path = os.path.join(housing_path, \"housing.tgz\")\n",
        "    urllib.request.urlretrieve(housing_url, tgz_path)\n",
        "    housing_tgz = tarfile.open(tgz_path)\n",
        "    housing_tgz.extractall(path=housing_path)\n",
        "    housing_tgz.close()\n",
        "    \n",
        "fetch_housing_data()\n",
        "\n",
        "df = pd.read_csv(FILE_PATH) # Wir lesen die Datei housing.csv ein\n",
        "\n",
        "df = df.dropna() # löscht alle Zeile mit fehlenden Attributen\n",
        "df = df.reset_index(drop=True) # zählt unsere Daten neu durch\n",
        "\n",
        "description = df.describe()\n",
        "\n",
        "bins = [0] + list(description[\"median_house_value\"][\n",
        "    [\"25%\", \"50%\", \"75%\"]\n",
        "].astype(int)) + [np.inf]\n",
        "\n",
        "df[\"house_cat\"] = pd.cut(\n",
        "    df[\"median_house_value\"],\n",
        "    bins=bins,\n",
        "    labels=[\"0 - 25%\", \"25 - 50%\", \"50 - 75%\", \"75 - 100%\"]\n",
        ")\n",
        "\n",
        "split = StratifiedShuffleSplit(n_splits=1, test_size=0.1, random_state=0)\n",
        "for train_index, test_index in split.split(df, df[\"house_cat\"]):\n",
        "    df_train = df.loc[train_index]\n",
        "    df_test = df.loc[test_index]\n",
        "    \n",
        "df_train = df_train.drop(\"house_cat\", axis=1)\n",
        "df_test = df_test.drop(\"house_cat\", axis=1)"
      ],
      "outputs": [],
      "metadata": {
        "id": "7b60d86f"
      }
    },
    {
      "cell_type": "code",
      "execution_count": null,
      "source": [
        "import matplotlib.pyplot as plt\n",
        "import matplotlib.image as mpimg\n",
        "\n",
        "def plot_df_on_california(df, california_path):\n",
        "\n",
        "    ax = df.plot(\n",
        "        kind=\"scatter\", \n",
        "        x=\"longitude\", \n",
        "        y=\"latitude\", \n",
        "        figsize=(10, 8),\n",
        "        s=df['population']/100, \n",
        "        label=\"Population\",\n",
        "        c=\"median_house_value\", \n",
        "        cmap=plt.get_cmap(\"jet\"),\n",
        "        colorbar=True, \n",
        "        alpha=0.4\n",
        "    )\n",
        "\n",
        "    x_min, x_max = ax.get_xlim()\n",
        "    y_min, y_max = ax.get_ylim()\n",
        "    california_img = mpimg.imread(california_path)\n",
        "    plt.imshow(\n",
        "        california_img, \n",
        "        extent=[-124.85, -113.8, 32.08, 42.42], \n",
        "        alpha=0.4,\n",
        "        cmap=plt.get_cmap(\"jet\")\n",
        "    )\n",
        "\n",
        "    plt.legend();"
      ],
      "outputs": [],
      "metadata": {
        "id": "HuK_9PH3l81N"
      }
    },
    {
      "cell_type": "markdown",
      "source": [
        "# 1.9 Hauspreise in Kalifornien\n",
        "\n",
        "<img width=70% src=\"https://raw.githubusercontent.com/christianwarmuth/openhpi-kipraxis/main/images/cover_housing.jpg\">"
      ],
      "metadata": {
        "id": "e67c8da4"
      }
    },
    {
      "cell_type": "markdown",
      "source": [
        "### Beginn der Attributsanalyse\n",
        "\n",
        "Wir wollen nun verstehen, welche Zusammenhänge in den Eingabedaten zu unserer Zielvariable besteht. Da wir `longitude` (Längengrad) und `latitude` (Breitengrad) in unseren Daten haben, können wir diese abbilden:"
      ],
      "metadata": {
        "id": "efbb1165"
      }
    },
    {
      "cell_type": "code",
      "execution_count": null,
      "source": [
        "df_train.plot(kind=\"scatter\", x=\"longitude\", y=\"latitude\", figsize=(12, 8));"
      ],
      "outputs": [],
      "metadata": {
        "id": "af96f14e"
      }
    },
    {
      "cell_type": "markdown",
      "source": [
        "Das hilft uns aber noch nicht sonderlich weiter. Wir können unsere einzelnen Punkte grafisch besser darstellen, indem wir etwa Population und Hauswerte mit aufnehmen:"
      ],
      "metadata": {
        "id": "2d8bfce4"
      }
    },
    {
      "cell_type": "code",
      "execution_count": null,
      "source": [
        "df_train.plot(kind=\"scatter\", x=\"longitude\", y=\"latitude\", alpha=0.4, \n",
        "    s=df_train[\"population\"]/100, label=\"population\", figsize=(12, 8), c=\"median_house_value\", \n",
        "    cmap=plt.get_cmap(\"jet\"), colorbar=True, sharex=False\n",
        ")\n",
        "plt.legend();"
      ],
      "outputs": [],
      "metadata": {
        "id": "d7480cc6"
      }
    },
    {
      "cell_type": "markdown",
      "source": [
        "Wir können die Grafik mit einem Bild hinterlegen. Hierzu greifen wir auf eine Funktion zu, die wir in einem Skript festgehalten haben und nun importieren:"
      ],
      "metadata": {
        "id": "3e6445a4"
      }
    },
    {
      "cell_type": "code",
      "execution_count": null,
      "source": [
        "plot_df_on_california(df_train, CALIFORNIA_PATH)"
      ],
      "outputs": [],
      "metadata": {
        "id": "7ff6dc1d"
      }
    },
    {
      "cell_type": "markdown",
      "source": [
        "Wir sehen ganz deutlich:\n",
        "- an der Küste sind die Preise höher, im Inland sind die Preise wesentlich geringer\n",
        "- teure Wohngebiete treten selten alleine auf, sondern gruppieren sich\n",
        "\n",
        "Wir können aber noch tiefer in die Analyse gehen. Schauen wir uns dazu `ocean_proximity` (Nähe zum Meer) an, da dies wohl ein relevantes Attribut für unsere Prognose ist:"
      ],
      "metadata": {
        "id": "984bd047"
      }
    },
    {
      "cell_type": "code",
      "execution_count": null,
      "source": [
        "ocean_proximity_value_counts = df_train[\"ocean_proximity\"].value_counts()\n",
        "ocean_proximity_value_counts"
      ],
      "outputs": [],
      "metadata": {
        "id": "00168f7d"
      }
    },
    {
      "cell_type": "markdown",
      "source": [
        "Wir haben dort fünf Ausprägungen, von denen eine Ausprägung ein Ausreißer ist (`ISLAND` mit 5 Punkten). Schauen wir uns zu diesen einmal die Median-Hauspreise an:"
      ],
      "metadata": {
        "id": "2a88cb34"
      }
    },
    {
      "cell_type": "code",
      "execution_count": null,
      "source": [
        "median_house_values_by_proximity = df_train.groupby(\"ocean_proximity\")[\"median_house_value\"].median()\n",
        "median_house_values_by_proximity"
      ],
      "outputs": [],
      "metadata": {
        "id": "53c53f2a"
      }
    },
    {
      "cell_type": "markdown",
      "source": [
        "Es scheint ganz klare Unterschiede in den Preisen für dieses Attribut zu geben; schauen wir uns das einmal genauer an, indem wir nur noch Teile unserer Daten visualisieren. Wir schreiben dafür eine Hilfsfunktion:"
      ],
      "metadata": {
        "id": "4f1f5cb3"
      }
    },
    {
      "cell_type": "code",
      "execution_count": null,
      "source": [
        "def filter_df_by_proximity(df, proximity):\n",
        "    return df.loc[df[\"ocean_proximity\"] == proximity]"
      ],
      "outputs": [],
      "metadata": {
        "id": "a49f1488"
      }
    },
    {
      "cell_type": "markdown",
      "source": [
        "Nun gehen wir schrittweise die Visualisierungen durch. Fangen wir mit `INLAND` an:"
      ],
      "metadata": {
        "id": "943727ce"
      }
    },
    {
      "cell_type": "code",
      "execution_count": null,
      "source": [
        "plot_df_on_california(filter_df_by_proximity(df_train, \"INLAND\"), CALIFORNIA_PATH)"
      ],
      "outputs": [],
      "metadata": {
        "id": "db121527"
      }
    },
    {
      "cell_type": "markdown",
      "source": [
        "Inlandpreise sind scheinbar eher gering; schauen wir auf `1H OCEAN`:"
      ],
      "metadata": {
        "id": "24d5d7b0"
      }
    },
    {
      "cell_type": "code",
      "execution_count": null,
      "source": [
        "plot_df_on_california(filter_df_by_proximity(df_train, \"<1H OCEAN\"), CALIFORNIA_PATH)"
      ],
      "outputs": [],
      "metadata": {
        "id": "b1bc0e4c"
      }
    },
    {
      "cell_type": "markdown",
      "source": [
        "Die Preise sind schon erkennbar höher. Blicken wir auf `NEAR OCEAN`:"
      ],
      "metadata": {
        "id": "284c0695"
      }
    },
    {
      "cell_type": "code",
      "execution_count": null,
      "source": [
        "plot_df_on_california(filter_df_by_proximity(df_train, \"NEAR OCEAN\"), CALIFORNIA_PATH)"
      ],
      "outputs": [],
      "metadata": {
        "id": "bc21a356"
      }
    },
    {
      "cell_type": "markdown",
      "source": [
        "Wir stellen klar fest: Je näher die Gegend zum Meer, desto teurer. Schauen wir uns die zwei Ausstehenden an:"
      ],
      "metadata": {
        "id": "88d7ffd7"
      }
    },
    {
      "cell_type": "code",
      "execution_count": null,
      "source": [
        "plot_df_on_california(filter_df_by_proximity(df_train, \"NEAR BAY\"), CALIFORNIA_PATH)"
      ],
      "outputs": [],
      "metadata": {
        "id": "bc87eac2"
      }
    },
    {
      "cell_type": "markdown",
      "source": [
        "`NEAR BAY` scheint eine klare Gegend zu repräsentieren. `ISLAND` kennen wir schon als Ausreißer:"
      ],
      "metadata": {
        "id": "dd770432"
      }
    },
    {
      "cell_type": "code",
      "execution_count": null,
      "source": [
        "plot_df_on_california(filter_df_by_proximity(df_train, \"ISLAND\"), CALIFORNIA_PATH)"
      ],
      "outputs": [],
      "metadata": {
        "id": "04a1a3b7"
      }
    },
    {
      "cell_type": "markdown",
      "source": [
        "Für `ISLAND` haben wir nahezu keine verlässliche Datenbasis. Sollten wir hierfür überhaupt Prognosen zulassen?\n",
        "\n",
        "Für das weitere Projekt ignorieren wir `ISLAND`. In der Praxis wäre dies jetzt jedoch ein guter Punkt zu überlegen, ob für solch seltenen Attribute Prognosen erstellt werden sollten, oder eben nicht. Eine Alternative wäre ein Hybrid: Für `INLAND`, `NEAR OCEAN` etc. darf eine Prognose getan werden, für `ISLAND` muss ein Mensch gefragt werden."
      ],
      "metadata": {
        "id": "27604775"
      }
    },
    {
      "cell_type": "code",
      "execution_count": null,
      "source": [
        "df_train = df_train.drop(filter_df_by_proximity(df_train, \"ISLAND\").index)\n",
        "df_test = df_test.drop(filter_df_by_proximity(df_test, \"ISLAND\").index)"
      ],
      "outputs": [],
      "metadata": {
        "id": "0703a46e"
      }
    },
    {
      "cell_type": "markdown",
      "source": [
        "Mit dem erlangten Wissen könnten wir bereits jetzt eine ganz einfache, regelbasierte Prognose erstellen. Diese hat noch nichts mit Machine Learning zu tun, wäre aber in der Lage, Prognosen zu erstellen:"
      ],
      "metadata": {
        "id": "fa907b9b"
      }
    },
    {
      "cell_type": "code",
      "execution_count": null,
      "source": [
        "def predict_by_ocean_proximity(df, median_house_values_by_proximity):\n",
        "    df[\"ocean_proximity_prediction\"] = df[\"ocean_proximity\"].apply(\n",
        "        lambda x: median_house_values_by_proximity[x]\n",
        "    )\n",
        "    return df"
      ],
      "outputs": [],
      "metadata": {
        "id": "8853bb23"
      }
    },
    {
      "cell_type": "markdown",
      "source": [
        "Schauen wir uns das einfach einmal an:"
      ],
      "metadata": {
        "id": "adcd43c4"
      }
    },
    {
      "cell_type": "code",
      "execution_count": null,
      "source": [
        "df_train = predict_by_ocean_proximity(df_train, median_house_values_by_proximity)\n",
        "df_test = predict_by_ocean_proximity(df_test, median_house_values_by_proximity)\n",
        "df_train.head()"
      ],
      "outputs": [],
      "metadata": {
        "id": "13871d5d"
      }
    },
    {
      "cell_type": "markdown",
      "source": [
        "Ok, wir sehen direkt, dass dieses Attribut wohl nicht ausreicht. Nichtsdestotrotz haben wir nun eine Baseline, d.h. ein Wert mit dem wir uns vergleichen können. Wir fangen klein an, und steigern uns immer weiter - eine Möglichkeit wäre etwa, als nächstes ein Machine Learning Modell zu verwenden, oder weitere Attribute zu analysieren und in die Rechnung einzubringen."
      ],
      "metadata": {
        "id": "16698b47"
      }
    },
    {
      "cell_type": "markdown",
      "source": [
        "Werfen wir nun noch einen Blick auf die Korrelation der Attribute, bevor wir uns an das Machine Learning Training geben. Wir nutzen den Pearson Korrelationskoeffizienten, welcher uns - bei linearem Zusammenhang - eine Angabe darüber gibt, wie eine Variable y von der Variable x abhängt. Wir können mit `pandas` einen Blick darauf werfen:"
      ],
      "metadata": {
        "id": "ff16d6e4"
      }
    },
    {
      "cell_type": "code",
      "execution_count": null,
      "source": [
        "df_train.corr()[\"median_house_value\"].abs().sort_values(ascending=False)"
      ],
      "outputs": [],
      "metadata": {
        "id": "1ec38de3"
      }
    },
    {
      "cell_type": "markdown",
      "source": [
        "Das Einkommen der Bewohner eines Gebiets hat einen hohen Einfluss auf den Wert der Wohngegend - oder besser gesagt: Wenn Menschen ein gutes Gehalt verdienen, können Sie sich eher eine teure Wohnung leisten. Wir können uns diesen Sachverhalt wieder visualisieren:"
      ],
      "metadata": {
        "id": "c97d27a1"
      }
    },
    {
      "cell_type": "code",
      "execution_count": null,
      "source": [
        "df_train.plot(\n",
        "    kind=\"scatter\",\n",
        "    x=\"median_income\",\n",
        "    y=\"median_house_value\",\n",
        "    alpha=0.1\n",
        ");"
      ],
      "outputs": [],
      "metadata": {
        "id": "4e827352"
      }
    },
    {
      "cell_type": "markdown",
      "source": [
        "Wie schon zuvor erkannt scheint ein oberes Limit von 500.000€ für Wohngebiete in unseren Daten aufzutauchen. Wohngebiete, die teurer sind, werden auf 500.000€ gesetzt. Dies kann etwa durch die Erhebung der Daten geschehen sein. Wir könnten nun überlegen, ob wir alle Daten mit 500.000€ aus unserem Datensatz entfernen, da sich hier viele fehlerhafte Daten befinden werden (Daten, mit einem eigentlich höheren Wert). Wir entscheiden uns nun einmal dafür, diese Daten zu behalten."
      ],
      "metadata": {
        "id": "e5fff9ab"
      }
    },
    {
      "cell_type": "markdown",
      "source": [
        "Wir haben nun noch eine Idee, ob wir nicht weitere Informationen aus unseren bestehenden Daten extrahieren können, die für ein Modell vielleicht noch interessant wären. Eine ganz einfache Möglichkeit wäre hier etwa, Attribute direkt über eine Division zueinander in Relation zu stellen:"
      ],
      "metadata": {
        "id": "8ec56602"
      }
    },
    {
      "cell_type": "code",
      "execution_count": null,
      "source": [
        "def engineer_features(df):\n",
        "    df[\"ratio_bedrooms\"] = df[\"total_bedrooms\"] / df[\"total_rooms\"]\n",
        "    df[\"people_per_household\"] = df[\"population\"] / df[\"households\"]\n",
        "    return df"
      ],
      "outputs": [],
      "metadata": {
        "id": "254fb00f"
      }
    },
    {
      "cell_type": "markdown",
      "source": [
        "Wir wenden diese Funktion auf unsere Daten an:"
      ],
      "metadata": {
        "id": "d1ec4704"
      }
    },
    {
      "cell_type": "code",
      "execution_count": null,
      "source": [
        "df_train = engineer_features(df_train)\n",
        "df_test = engineer_features(df_test)"
      ],
      "outputs": [],
      "metadata": {
        "id": "2beeea12"
      }
    },
    {
      "cell_type": "markdown",
      "source": [
        "Und können feststellen, dass diese Attribute - rein aus Betrachtung der Korrelation - für uns interessant sein könnten."
      ],
      "metadata": {
        "id": "d33a8433"
      }
    },
    {
      "cell_type": "code",
      "execution_count": null,
      "source": [
        "df_train.corr()[\"median_house_value\"].abs().sort_values(ascending=False)"
      ],
      "outputs": [],
      "metadata": {
        "id": "723582f0"
      }
    }
  ]
}