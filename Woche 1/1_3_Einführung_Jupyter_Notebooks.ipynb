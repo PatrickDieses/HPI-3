{
 "cells": [
  {
   "cell_type": "markdown",
   "source": [
    "#  1.3 Einführung Jupyter Notebooks"
   ],
   "metadata": {
    "slideshow": {
     "slide_type": "slide"
    }
   }
  },
  {
   "cell_type": "markdown",
   "source": [
    "Wir verwenden in diesem Kurs immer wieder sogenannte Jupyter Notebooks. Einfach formuliert handelt es sich dabei um **Dokumente**, welche **Code** enthalten können.\n",
    "\n",
    "Jupyter Notebooks sind sehr beliebt unter Data Scientists, da sie Code in sogenannten Zellen enthalten, die nacheinander ausgeführt werden können. Außerdem können in sogenannten Markdown-Zellen Texte zur Dokumentation festgehalten werden.\n",
    "\n",
    "Hier folgt etwa eine Code-Zeile:"
   ],
   "metadata": {
    "slideshow": {
     "slide_type": "slide"
    }
   }
  },
  {
   "cell_type": "code",
   "execution_count": null,
   "source": [
    "print(\"Hallo liebe Kurs-TeilnehmerInnen! Willkommen im Kurs\")"
   ],
   "outputs": [],
   "metadata": {
    "slideshow": {
     "slide_type": "slide"
    }
   }
  },
  {
   "cell_type": "markdown",
   "source": [
    "Wir werden bei den Einheiten, in denen wir Code zeigen, nicht zu sehr auf die Ablauflogik selbst eingehen. Falls Sie sich im Nachgang den Code gerne einmal genauer anschauen möchten, können Sie dies machen. Wir werden jedes Jupyter Notebook mit Google Colab verfügbar machen, sodass Sie diese einfach und eigenständig durchklicken können."
   ],
   "metadata": {
    "slideshow": {
     "slide_type": "fragment"
    }
   }
  },
  {
   "cell_type": "code",
   "execution_count": null,
   "source": [
    "1+1"
   ],
   "outputs": [],
   "metadata": {
    "slideshow": {
     "slide_type": "slide"
    }
   }
  },
  {
   "cell_type": "code",
   "execution_count": null,
   "source": [
    "x = 5"
   ],
   "outputs": [],
   "metadata": {
    "slideshow": {
     "slide_type": "fragment"
    }
   }
  },
  {
   "cell_type": "code",
   "execution_count": null,
   "source": [
    "print(x)"
   ],
   "outputs": [],
   "metadata": {
    "slideshow": {
     "slide_type": "fragment"
    }
   }
  },
  {
   "cell_type": "code",
   "execution_count": null,
   "source": [],
   "outputs": [],
   "metadata": {}
  }
 ],
 "metadata": {
  "celltoolbar": "Slideshow",
  "kernelspec": {
   "display_name": "Python 3 (ipykernel)",
   "language": "python",
   "name": "python3"
  },
  "language_info": {
   "codemirror_mode": {
    "name": "ipython",
    "version": 3
   },
   "file_extension": ".py",
   "mimetype": "text/x-python",
   "name": "python",
   "nbconvert_exporter": "python",
   "pygments_lexer": "ipython3",
   "version": "3.7.10"
  }
 },
 "nbformat": 4,
 "nbformat_minor": 5
}