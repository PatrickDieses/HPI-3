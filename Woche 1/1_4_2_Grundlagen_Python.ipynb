{
  "nbformat": 4,
  "nbformat_minor": 5,
  "metadata": {
    "celltoolbar": "Slideshow",
    "kernelspec": {
      "display_name": "Python 3",
      "language": "python",
      "name": "python3"
    },
    "language_info": {
      "codemirror_mode": {
        "name": "ipython",
        "version": 3
      },
      "file_extension": ".py",
      "mimetype": "text/x-python",
      "name": "python",
      "nbconvert_exporter": "python",
      "pygments_lexer": "ipython3",
      "version": "3.9.5"
    },
    "colab": {
      "name": "1.4_2 Grundlagen Python.ipynb",
      "provenance": [],
      "include_colab_link": true
    }
  },
  "cells": [
    {
      "cell_type": "markdown",
      "source": [
        "<a href=\"https://colab.research.google.com/github/christianwarmuth/openhpi-kipraxis/blob/main/Woche%201/1_4_2_Grundlagen_Python.ipynb\" target=\"_parent\"><img src=\"https://colab.research.google.com/assets/colab-badge.svg\" alt=\"Open In Colab\"/></a>"
      ],
      "metadata": {
        "id": "view-in-github",
        "colab_type": "text"
      }
    },
    {
      "cell_type": "code",
      "execution_count": null,
      "source": [
        "def addiere_zwei_zahlen(erste_zahl, zweite_zahl):\n",
        "    print(\"Ich addiere \" + str(erste_zahl) + \" und \" + str(zweite_zahl))\n",
        "    summe = erste_zahl + zweite_zahl\n",
        "    return summe"
      ],
      "outputs": [],
      "metadata": {
        "id": "13b756d0"
      }
    },
    {
      "cell_type": "markdown",
      "source": [
        "# 1.4 Grundlagen in Python\n",
        "\n",
        "<img width=450px src=\"https://www.python.org/static/community_logos/python-logo-master-v3-TM.png\">\n",
        "\n",
        "\n",
        "<sub><sup>\n",
        "    Von www.python.org - www.python.org, <a href=\"http://www.gnu.org/licenses/gpl.html\" title=\"GNU General Public License\">GPL</a>, <a href=\"https://commons.wikimedia.org/w/index.php?curid=34991651\">Link</a>\n",
        "    \n",
        "</sup></sub>"
      ],
      "metadata": {
        "id": "a9d95db2"
      }
    },
    {
      "cell_type": "markdown",
      "source": [
        "Mit dem Wissen könnten wir unseren ersten interaktiven Python-Taschenrechner bauen.\n",
        "\n",
        "Dafür brauchen wir etwa:\n",
        "- eine Python Funktion, um vom Benutzer Daten abzufragen (Python bietet eine Standardfunktion hierfür)\n",
        "- eine Python Funktion, um Zahlen zu addieren\n",
        "- eine Python Funktion, um das Ergebnis zu melden\n",
        "- eine Python Funktion, welche diese Abfolgen kombiniert"
      ],
      "metadata": {
        "id": "a579c2e2"
      }
    },
    {
      "cell_type": "markdown",
      "source": [
        "## Vorweg\n",
        "\n",
        "Viele Wege führen nach Rom. Und so gibt es auch mehr als einen Weg, Programme zu entwickeln. Vielleicht fällt Ihnen gleich direkt ein, wie man den Taschenrechner noch entwickeln könnte - und dann ist das prima! \n",
        "\n",
        "Sollten Sie sich also fragen, ob man unsere Lösung \"einfacher\" oder \"performanter\" bauen könnte: bestimmt."
      ],
      "metadata": {
        "id": "eb380ff2"
      }
    },
    {
      "cell_type": "markdown",
      "source": [
        "## Benutzer abfragen\n",
        "Python bietet mit der Funktion `input` eine Möglichkeit, Daten vom Benutzer abzufragen. Wir können somit beginnen:"
      ],
      "metadata": {
        "id": "c18e953a"
      }
    },
    {
      "cell_type": "code",
      "execution_count": null,
      "source": [
        "erste_zahl = input(\"Was soll die erste Zahl sein? \")\n",
        "zweite_zahl = input(\"Was soll die zweite Zahl sein? \")"
      ],
      "outputs": [],
      "metadata": {
        "id": "d63094d1"
      }
    },
    {
      "cell_type": "markdown",
      "source": [
        "Nun haben wir unsere ersten Zahlen abgespeichert. Wir können unsere Funktion `addiere_zwei_zahlen` wiederverwenden:"
      ],
      "metadata": {
        "id": "bf2c0ecd"
      }
    },
    {
      "cell_type": "code",
      "execution_count": null,
      "source": [
        "summe = addiere_zwei_zahlen(erste_zahl, zweite_zahl)\n",
        "print(summe)"
      ],
      "outputs": [],
      "metadata": {
        "id": "827178b0"
      }
    },
    {
      "cell_type": "markdown",
      "source": [
        "## Debugging\n",
        "Das sieht nicht aus wie das, was wir wollten. Woran liegt das?\n",
        "\n",
        "Ein häufiger Bestandteil der Entwicklung ist das sogenannte **Debugging**. Hierbei versuchen wir zu verstehen, warum unser Code nicht so funktioniert, wie wir es wollen.\n",
        "\n",
        "Schauen wir uns einmal den Datentyp der Variablen an, die von `input` erzeugt wurden:"
      ],
      "metadata": {
        "id": "00a10ed2"
      }
    },
    {
      "cell_type": "code",
      "execution_count": null,
      "source": [
        "print(type(erste_zahl))\n",
        "print(type(zweite_zahl))"
      ],
      "outputs": [],
      "metadata": {
        "id": "16606ec4"
      }
    },
    {
      "cell_type": "markdown",
      "source": [
        "Wir sehen: `input` speichert Eingaben als Zeichenkette. Wir müssen die Werte daher konvertieren.\n",
        "\n",
        "Da wir auch Dezimalzahlen addieren können wollen, konvertieren wir den input auf `float`:"
      ],
      "metadata": {
        "id": "c6796723"
      }
    },
    {
      "cell_type": "code",
      "execution_count": null,
      "source": [
        "erste_zahl = float(erste_zahl)\n",
        "zweite_zahl = float(zweite_zahl)\n",
        "\n",
        "print(type(erste_zahl))\n",
        "print(type(zweite_zahl))"
      ],
      "outputs": [],
      "metadata": {
        "id": "6bf2fe12"
      }
    },
    {
      "cell_type": "markdown",
      "source": [
        "Passt die Ausgabe nun?"
      ],
      "metadata": {
        "id": "a4ebf888"
      }
    },
    {
      "cell_type": "code",
      "execution_count": null,
      "source": [
        "summe = addiere_zwei_zahlen(erste_zahl, zweite_zahl)\n",
        "print(summe)"
      ],
      "outputs": [],
      "metadata": {
        "id": "94e5f349"
      }
    },
    {
      "cell_type": "markdown",
      "source": [
        "Nun wollen wir das Ergebnis an unseren Benutzer zurückmelden.\n",
        "\n",
        "Hierfür nutzen wir erneut `print`, und fügen eine kleine Nachricht hinzu:"
      ],
      "metadata": {
        "id": "7258db54"
      }
    },
    {
      "cell_type": "code",
      "execution_count": null,
      "source": [
        "print(\"Das Ergebnis ist:\", summe)"
      ],
      "outputs": [],
      "metadata": {
        "id": "533bec64"
      }
    },
    {
      "cell_type": "markdown",
      "source": [
        "Zum Schluss wollen wir alles in eine wiederverwendbare Funktion geben:"
      ],
      "metadata": {
        "id": "57a7eec0"
      }
    },
    {
      "cell_type": "code",
      "execution_count": null,
      "source": [
        "def interaktives_addieren():\n",
        "    erste_zahl = float(input(\"Was soll die erste Zahl sein? \"))\n",
        "    zweite_zahl = float(input(\"Was soll die zweite Zahl sein? \"))\n",
        "    \n",
        "    summe = addiere_zwei_zahlen(erste_zahl, zweite_zahl)\n",
        "    \n",
        "    print(\"Das Ergebnis ist:\", summe)"
      ],
      "outputs": [],
      "metadata": {
        "id": "004218a5"
      }
    },
    {
      "cell_type": "markdown",
      "source": [
        "Nun können wir unsere Funktion aufrufen:"
      ],
      "metadata": {
        "id": "1b591551"
      }
    },
    {
      "cell_type": "code",
      "execution_count": null,
      "source": [
        "interaktives_addieren()"
      ],
      "outputs": [],
      "metadata": {
        "id": "e25b12fb"
      }
    },
    {
      "cell_type": "markdown",
      "source": [
        "## Wenn-Dann-Regeln\n",
        "Nun kann unser Taschenrechner addieren - aber noch nicht subtrahieren. Das wollen wir ergänzen.\n",
        "\n",
        "Ein einfaches, aber enorm mächtiges Konzept in der Programmierung ist das `if-then-else`. Am einfachsten sehen wir das an einem Beispiel:"
      ],
      "metadata": {
        "id": "2a6c5d0a"
      }
    },
    {
      "cell_type": "code",
      "execution_count": null,
      "source": [
        "def addiere_oder_subtrahiere(erste_zahl, zweite_zahl, ist_addition):\n",
        "    if ist_addition == True: \n",
        "        print(\"Ich addiere \" + str(erste_zahl) + \" mit \" + str(zweite_zahl))\n",
        "        ergebnis = erste_zahl + zweite_zahl\n",
        "    else:\n",
        "        print(\"Ich subtrahiere \" + str(zweite_zahl) + \" von \" + str(erste_zahl))\n",
        "        ergebnis = erste_zahl - zweite_zahl\n",
        "    \n",
        "    # wir können Variablen einfach überschreiben\n",
        "    ergebnis = \"Das Ergebnis ist: \" + str(ergebnis) \n",
        "    return ergebnis"
      ],
      "outputs": [],
      "metadata": {
        "id": "faee196b"
      }
    },
    {
      "cell_type": "code",
      "execution_count": null,
      "source": [
        "print(addiere_oder_subtrahiere(20, 10, True))\n",
        "print(addiere_oder_subtrahiere(20, 10, False))"
      ],
      "outputs": [],
      "metadata": {
        "id": "3d91f68b"
      }
    },
    {
      "cell_type": "markdown",
      "source": [
        "## Listen\n",
        "Wir haben bisher immer einzelne Werte angeschaut. Python bietet das Listen-Konstrukt, mit dem mehrere Werte in einer Variable gespeichert werden können:"
      ],
      "metadata": {
        "id": "aa05d1d0"
      }
    },
    {
      "cell_type": "code",
      "execution_count": null,
      "source": [
        "eine_liste = [\"Christian\", \"Johannes\", \"Henrik\", \"Simon\"]"
      ],
      "outputs": [],
      "metadata": {
        "id": "8ee2a15d"
      }
    },
    {
      "cell_type": "markdown",
      "source": [
        "## Schleifen\n",
        "Listen werden interessant, wenn wir diese mit Schleifen verbinden. So können wir etwa über jeden Namen der Liste iterieren, um eine Logik auszuführen:"
      ],
      "metadata": {
        "id": "a18d4518"
      }
    },
    {
      "cell_type": "code",
      "execution_count": null,
      "source": [
        "for name in eine_liste:\n",
        "    print(\"Hallo, ich heiße\", name)"
      ],
      "outputs": [],
      "metadata": {
        "id": "4391b1e5"
      }
    },
    {
      "cell_type": "markdown",
      "source": [
        "## Schlüssel-Wert Strukturen\n",
        "Ebenso wichtig wie Listen sind Strukturen, die uns das abspeichern von beliebigen Werten unter einem Schlüssel ermöglichen. Diese Strukturen heißen Dictionaries. Nützlich sind solche Strukturen etwa, um Vorkommnisse zu zählen:"
      ],
      "metadata": {
        "id": "7017a896"
      }
    },
    {
      "cell_type": "code",
      "execution_count": null,
      "source": [
        "farben = [\"rot\", \"grün\", \"blau\", \"blau\", \"gelb\", \"rot\", \"rot\", \"blau\", \"gelb\", \"orange\", \"blau\"]\n",
        "haufigkeiten = {\n",
        "    \"rot\": 0,\n",
        "    \"grün\": 0,\n",
        "    \"blau\": 0,\n",
        "    \"gelb\": 0,\n",
        "    \"orange\": 0\n",
        "}\n",
        "for farbe in farben:\n",
        "    haufigkeiten[farbe] += 1\n",
        "print(haufigkeiten)"
      ],
      "outputs": [],
      "metadata": {
        "id": "fa7926ef"
      }
    },
    {
      "cell_type": "markdown",
      "source": [
        "## Das sind die wesentlichen Python Grundlagen zu diesem Kurs.\n",
        "Wir werden uns im Folgenden noch viele weitere Themenfelder aus Python anschauen. Ein besonders wichtiges werden Programmierbibliotheken sein, da wir diese im Verlauf des Kurses ausgiebig nutzen."
      ],
      "metadata": {
        "id": "e4b7d9da"
      }
    }
  ]
}