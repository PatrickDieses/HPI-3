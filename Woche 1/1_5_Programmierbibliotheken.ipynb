{
  "nbformat": 4,
  "nbformat_minor": 5,
  "metadata": {
    "celltoolbar": "Slideshow",
    "kernelspec": {
      "display_name": "Python 3",
      "language": "python",
      "name": "python3"
    },
    "language_info": {
      "codemirror_mode": {
        "name": "ipython",
        "version": 3
      },
      "file_extension": ".py",
      "mimetype": "text/x-python",
      "name": "python",
      "nbconvert_exporter": "python",
      "pygments_lexer": "ipython3",
      "version": "3.9.5"
    },
    "colab": {
      "name": "1.5 Programmierbibliotheken.ipynb",
      "provenance": [],
      "include_colab_link": true
    }
  },
  "cells": [
    {
      "cell_type": "markdown",
      "source": [
        "<a href=\"https://colab.research.google.com/github/christianwarmuth/openhpi-kipraxis/blob/main/Woche%201/1_5_Programmierbibliotheken.ipynb\" target=\"_parent\"><img src=\"https://colab.research.google.com/assets/colab-badge.svg\" alt=\"Open In Colab\"/></a>"
      ],
      "metadata": {
        "id": "view-in-github",
        "colab_type": "text"
      }
    },
    {
      "cell_type": "markdown",
      "source": [
        "# 1.5 Programmierbibliotheken\n",
        "\n",
        "<img width=90% src=\"https://raw.githubusercontent.com/pandas-dev/pandas/master/web/pandas/static/img/pandas.svg\">\n",
        "\n",
        "<sup><sub>Von Marc Garcia - https://github.com/pandas-dev/pandas/blob/master/web/pandas/static/img/pandas.svg, BSD, https://commons.wikimedia.org/w/index.php?curid=73107397</sub></sup>"
      ],
      "metadata": {
        "id": "e32b962c"
      }
    },
    {
      "cell_type": "markdown",
      "source": [
        "\"If I have seen further, it is by standing on the shoulders of giants\" - Isaac Newton (1965)\n",
        "\n",
        "Programme lassen sich ausgezeichnet verbreiten, da EntwicklerInnen geschriebenen Code als Werkzeuge veröffentlichen können. Nahezu jede Entwicklung moderner Applikationen baut auf Werkzeugen auf, die zuvor von großartigen EntwicklerInnen gebaut wurden."
      ],
      "metadata": {
        "id": "6d55c9d2"
      }
    },
    {
      "cell_type": "markdown",
      "source": [
        "Programmierbibliotheken sind genau solche Werkzeuge. Es handelt sich dabei etwa um Funktionen, die von EntwicklerInnen implementiert und anschließend für andere EntwicklerInnen zugänglich verbreitet wurden.\n",
        "\n",
        "Wir schauen uns nun einmal gängige Bibliotheken an, die für Data Science verwendet werden."
      ],
      "metadata": {
        "id": "1e2b5220"
      }
    },
    {
      "cell_type": "markdown",
      "source": [
        "Eine häufig verwendete Datenstruktur ist der sogenannte DataFrame - hierbei handelt es sich im Wesentlichen erst einmal um eine Tabelle. Wir wollen beispielsweise eine folgende CSV-Datei einlesen:\n",
        "<img src=\"https://raw.githubusercontent.com/christianwarmuth/openhpi-kipraxis/main/images/csv_file.png\">"
      ],
      "metadata": {
        "id": "23fd7873"
      }
    },
    {
      "cell_type": "markdown",
      "source": [
        "Wir brauchen dies nicht selbst entwickeln, sondern können auf die Bibliothek `pandas` zurückgreifen. Dafür müssen wir die Bibliothek nur importieren:"
      ],
      "metadata": {
        "id": "19ac67b7"
      }
    },
    {
      "cell_type": "code",
      "execution_count": null,
      "source": [
        "import pandas as pd # as ... kürzt Bibliothek für spätere Aufrufe ab"
      ],
      "outputs": [],
      "metadata": {
        "id": "101794a2"
      }
    },
    {
      "cell_type": "markdown",
      "source": [
        "Wir haben soeben eine ganze Bandbreite an Funktionalitäten in unser Juypter Notebook geladen. Mit `pandas` können wir etwa besagte CSV-Dateien einlesen. Hierfür müssen wir nur wissen, dass es die Funktion `read_csv` gibt."
      ],
      "metadata": {
        "id": "339f9fe3"
      }
    },
    {
      "cell_type": "code",
      "execution_count": null,
      "source": [
        "# Da wir die .csv-Datei nicht lokal vorliegen haben, müssen wir sie zunächst temporär in das Colab-File-System ablegen.\n",
        "# Der Code fragt die Dabei per http-request ab, entpackt die Datei und speichert sie im lokalen File-System von Colab. \n",
        "# Das File-System wird nur so lange \"aufrecht erhalten\", bis das Colab (sprich das Browser-Fenster) geschlossen wird. \n",
        "\n",
        "import os\n",
        "import tarfile\n",
        "import urllib.request\n",
        "\n",
        "DOWNLOAD_ROOT = \"https://raw.githubusercontent.com/ageron/handson-ml2/master/\"\n",
        "HOUSING_PATH = os.getcwd()\n",
        "FILE_PATH = \"housing.csv\"\n",
        "HOUSING_URL = DOWNLOAD_ROOT + \"datasets/housing/housing.tgz\"\n",
        "\n",
        "def fetch_housing_data(housing_url=HOUSING_URL, housing_path=HOUSING_PATH):\n",
        "    if not os.path.isdir(housing_path):\n",
        "        os.makedirs(housing_path)\n",
        "    tgz_path = os.path.join(housing_path, \"housing.tgz\")\n",
        "    urllib.request.urlretrieve(housing_url, tgz_path)\n",
        "    housing_tgz = tarfile.open(tgz_path)\n",
        "    housing_tgz.extractall(path=housing_path)\n",
        "    housing_tgz.close()\n",
        "    \n",
        "fetch_housing_data()"
      ],
      "outputs": [],
      "metadata": {}
    },
    {
      "cell_type": "code",
      "execution_count": null,
      "source": [
        "df = pd.read_csv(FILE_PATH)\n",
        "df.head()"
      ],
      "outputs": [],
      "metadata": {
        "scrolled": false,
        "id": "b6c80382"
      }
    },
    {
      "cell_type": "markdown",
      "source": [
        "Wir können uns dazu einmal anschauen, wie der Code geschrieben wurde. Dieser ist unter folgendem Link zu finden:  https://github.com/pandas-dev/pandas/blob/master/pandas/io/parsers/readers.py"
      ],
      "metadata": {
        "id": "11f78492"
      }
    },
    {
      "cell_type": "markdown",
      "source": [
        "Zu der Funktionalität `read_csv` gibt es auch eine Dokumentation, die uns einfach zugänglich erklärt, was wir mit `read_csv` machen können, und wie diese Funktion zu bedienen ist. Wir finden die Dokumentation mit einer einfachen Google-Suche unter: https://pandas.pydata.org/docs/reference/api/pandas.read_csv.html"
      ],
      "metadata": {
        "id": "6a75d432"
      }
    },
    {
      "cell_type": "markdown",
      "source": [
        "`pandas` bietet aber natürlich noch viel mehr Möglichkeiten, als \"nur\" Daten einzulesen. Ähnlich wie bei Excel, können wir auch Daten filtern, oder transformieren."
      ],
      "metadata": {
        "id": "134d7c3c"
      }
    },
    {
      "cell_type": "code",
      "execution_count": null,
      "source": [
        "df.loc[df[\"total_rooms\"] > 1000]"
      ],
      "outputs": [],
      "metadata": {
        "scrolled": true,
        "id": "5cca6a9e"
      }
    },
    {
      "cell_type": "markdown",
      "source": [
        "Woher wissen wir, dass `pandas` das kann?\n",
        "- Mit einer Idee starten, was entwickelt werden soll\n",
        "- Einfach loslegen\n",
        "- Wenn Herausforderungen auftreten (z.B. beim Einlesen einer Datei) nach Lösungen googlen (z.B. *python read csv file*)\n",
        "- Die Lösung recherchieren und anwenden\n",
        "- Vorgehensweise für das nächste Mal merken\n",
        "\n",
        "Programmierbibliotheken sind **Tools**, und ihr Einsatz muss gelernt werden."
      ],
      "metadata": {
        "id": "c0026c2c"
      }
    },
    {
      "cell_type": "markdown",
      "source": [
        "Es gibt Programmierbibliotheken für verschiedenste Zwecke. Im Data Science-Bereich etwa für:\n",
        "- Datenmanagement (z.B. `pandas`)\n",
        "- Datenvisualisierung (z.B. `matplotlib`)\n",
        "- Komplexere Mathematik (z.B. `numpy`)\n",
        "- Machine Learning (z.B. `scikit-learn` oder `tensorflow`)\n",
        "\n",
        "Wir schauen uns im Laufe des Kurses einige Bibliotheken an!"
      ],
      "metadata": {
        "id": "24c9ca9e"
      }
    }
  ]
}