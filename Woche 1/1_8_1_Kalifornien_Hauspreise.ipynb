{
  "nbformat": 4,
  "nbformat_minor": 5,
  "metadata": {
    "celltoolbar": "Slideshow",
    "kernelspec": {
      "display_name": "Python 3",
      "language": "python",
      "name": "python3"
    },
    "language_info": {
      "codemirror_mode": {
        "name": "ipython",
        "version": 3
      },
      "file_extension": ".py",
      "mimetype": "text/x-python",
      "name": "python",
      "nbconvert_exporter": "python",
      "pygments_lexer": "ipython3",
      "version": "3.9.5"
    },
    "colab": {
      "name": "1.9_1 Kalifornien Hauspreise.ipynb",
      "provenance": [],
      "collapsed_sections": [],
      "include_colab_link": true
    }
  },
  "cells": [
    {
      "cell_type": "markdown",
      "source": [
        "<a href=\"https://colab.research.google.com/github/christianwarmuth/openhpi-kipraxis/blob/main/Woche%201/1_8_1_Kalifornien_Hauspreise.ipynb\" target=\"_parent\"><img src=\"https://colab.research.google.com/assets/colab-badge.svg\" alt=\"Open In Colab\"/></a>"
      ],
      "metadata": {
        "id": "view-in-github",
        "colab_type": "text"
      }
    },
    {
      "cell_type": "markdown",
      "source": [
        "# 1.8 Hauspreise in Kalifornien\n",
        "\n",
        "<img width=70% src=\"https://raw.githubusercontent.com/christianwarmuth/openhpi-kipraxis/main/images/cover_housing.jpg\">"
      ],
      "metadata": {
        "id": "e67c8da4"
      }
    },
    {
      "cell_type": "markdown",
      "source": [
        "## Was wir erreichen wollen\n",
        "\n",
        "Ein Wohnungsgebiet in Kalifornien wird durch verschiedene Attribute beschrieben, z.B. durch die Anzahl der Häuser oder die Nähe zum Strand\n",
        "\n",
        "Wir wollen in diesem Einstiegsprojekt ein Modell datengetrieben entwickeln, welches den Median-Preis eines Hauses einer beliebigen Gegend in Kalifornien berechnen kann.\n",
        "\n",
        "Das könnte etwa in Form einer Funktion sein, wie folgt:"
      ],
      "metadata": {
        "id": "860b3183"
      }
    },
    {
      "cell_type": "code",
      "execution_count": null,
      "source": [
        "def calculate_price(number_rooms, location, machine_learning_model):\n",
        "    # number_rooms und location sind Eingaben in unser Modell\n",
        "    # price ist die Ausgabe\n",
        "    price = machine_learning_model.predict(number_rooms, location)\n",
        "    return price"
      ],
      "outputs": [],
      "metadata": {
        "id": "49bc7f2e"
      }
    },
    {
      "cell_type": "markdown",
      "source": [
        "## Installieren relevanter Bibliotheken\n",
        "\n",
        "Zunächst müssen wir einige Programmierbibliotheken importieren, welche wir verwenden wollen:"
      ],
      "metadata": {
        "id": "53f2f746"
      }
    },
    {
      "cell_type": "code",
      "execution_count": null,
      "source": [
        "import os # u.a. zur Entwicklung plattformübergreifender Systempfade\n",
        "import yaml # für Konfigurationen\n",
        "import pandas as pd # Datenmanagement\n",
        "import numpy as np # Hilfsfunktionen für mathematische Operationen\n",
        "\n",
        "# Datenvisualisierung\n",
        "import seaborn as sns \n",
        "%matplotlib inline\n",
        "import matplotlib.pyplot as plt\n",
        "from pandas.plotting import scatter_matrix\n",
        "\n",
        "from sklearn.model_selection import StratifiedShuffleSplit, train_test_split # Datensplits\n",
        "from sklearn.linear_model import LinearRegression # Machine Learning\n",
        "from sklearn import metrics # Modellevaluierung"
      ],
      "outputs": [],
      "metadata": {
        "id": "d2d1717a"
      }
    },
    {
      "cell_type": "markdown",
      "source": [
        "## Anlegen von Dateipfaden\n",
        "\n",
        "Es ist sinnvoll, Dateipfade zu Beginn des Projekts einmal in \"Konstanten\" (CAPSLOCK) Variablen zu schreiben:"
      ],
      "metadata": {
        "id": "9a862fb1"
      }
    },
    {
      "cell_type": "code",
      "execution_count": null,
      "source": [
        "import os\n",
        "import tarfile\n",
        "import urllib.request\n",
        "\n",
        "DOWNLOAD_ROOT = \"https://raw.githubusercontent.com/ageron/handson-ml2/master/\"\n",
        "HOUSING_PATH = os.getcwd()\n",
        "FILE_PATH = \"housing.csv\"\n",
        "HOUSING_URL = DOWNLOAD_ROOT + \"datasets/housing/housing.tgz\"\n",
        "\n",
        "def fetch_housing_data(housing_url=HOUSING_URL, housing_path=HOUSING_PATH):\n",
        "    if not os.path.isdir(housing_path):\n",
        "        os.makedirs(housing_path)\n",
        "    tgz_path = os.path.join(housing_path, \"housing.tgz\")\n",
        "    urllib.request.urlretrieve(housing_url, tgz_path)\n",
        "    housing_tgz = tarfile.open(tgz_path)\n",
        "    housing_tgz.extractall(path=housing_path)\n",
        "    housing_tgz.close()\n",
        "    \n",
        "fetch_housing_data()"
      ],
      "outputs": [],
      "metadata": {
        "id": "18c9df3d"
      }
    },
    {
      "cell_type": "markdown",
      "source": [
        "## Einlesen unserer Daten\n",
        "\n",
        "Mit nun importierten Bibliotheken und angelegten Dateipfaden können wir unsere Daten mit `pandas` importieren:"
      ],
      "metadata": {
        "id": "bae224f0"
      }
    },
    {
      "cell_type": "code",
      "execution_count": null,
      "source": [
        "df = pd.read_csv(FILE_PATH) # Wir lesen die Datei housing.csv ein\n",
        "df.head()"
      ],
      "outputs": [],
      "metadata": {
        "id": "57551d12"
      }
    },
    {
      "cell_type": "markdown",
      "source": [
        "## Erste Dateiüberprüfung\n",
        "\n",
        "Wir haben unsere Daten nun im Arbeitsspeicher und können einmal überprüfen, wie viele unserer Datenpunkte fehlende Werte enthalten:"
      ],
      "metadata": {
        "id": "04e71abe"
      }
    },
    {
      "cell_type": "code",
      "execution_count": null,
      "source": [
        "# wie viele Datenpunkte haben nicht-vollständige Attribute?\n",
        "num_missing = len(df) - len(df.dropna())\n",
        "ratio_missing = num_missing / len(df) \n",
        "# wir konvertieren in Prozente und runden auf 3 Nachkommastellen\n",
        "ratio_missing = np.round(ratio_missing * 100, 3) \n",
        "print(f\"{ratio_missing}% der Daten ({num_missing} Punkte) haben fehlende Werte!\")"
      ],
      "outputs": [],
      "metadata": {
        "id": "f9d569c2"
      }
    },
    {
      "cell_type": "markdown",
      "source": [
        "Schauen wir uns einmal die Daten an, die fehlende Werte haben:"
      ],
      "metadata": {
        "id": "6fb47ce8"
      }
    },
    {
      "cell_type": "code",
      "execution_count": null,
      "source": [
        "df.loc[df.isnull().sum(axis=1) == 1] # ein kleiner Trick zum anzeigen von Daten mit fehlenden Attributen"
      ],
      "outputs": [],
      "metadata": {
        "id": "db32ae3c"
      }
    },
    {
      "cell_type": "markdown",
      "source": [
        "Es scheint so, als hätten wir in der Spalte `total_bedrooms` fehlende Werte. Ein weiterer Blick auf die Daten bestätigt uns das:"
      ],
      "metadata": {
        "id": "2e5f4d74"
      }
    },
    {
      "cell_type": "code",
      "execution_count": null,
      "source": [
        "df.isnull().sum(axis=0)"
      ],
      "outputs": [],
      "metadata": {
        "id": "82dd8373"
      }
    },
    {
      "cell_type": "markdown",
      "source": [
        "Wir könnten uns in einem Projekt gedanken machen, wie wir mit diesen fehlenden Werten umgehen. Hier machen wir es ganz einfach: Wir werden diese Daten aus unserem Datensatz einfach entfernen:"
      ],
      "metadata": {
        "id": "79aa9c37"
      }
    },
    {
      "cell_type": "code",
      "execution_count": null,
      "source": [
        "df = df.dropna() # löscht alle Zeilen mit fehlenden Attributen\n",
        "df = df.reset_index(drop=True) # zählt unsere Daten neu durch"
      ],
      "outputs": [],
      "metadata": {
        "id": "6c2e53d9"
      }
    },
    {
      "cell_type": "markdown",
      "source": [
        "### Unsere Zielvariable\n",
        "Nun schauen wir uns an, was wir überhaupt prognostizieren wollen: Den Median-Hauswert einer Wohngegend. Wie sind unsere Daten hier verteilt?"
      ],
      "metadata": {
        "id": "d9488d00"
      }
    },
    {
      "cell_type": "code",
      "execution_count": null,
      "source": [
        "sns.displot(data=df, x=\"median_house_value\", kde=True);"
      ],
      "outputs": [],
      "metadata": {
        "id": "c09d318d"
      }
    },
    {
      "cell_type": "markdown",
      "source": [
        "Wir merken, dass es deutlich abweichende Median-Preise in den Wohngegenden gibt und dass in den Daten scheinbar ein oberes Limit bei 500.000 USD liegt.\n",
        "\n",
        "Wenn wir nun die Daten weiter analysieren wollen, sollten wir vorher den Split in Training/Test-Daten machen. Damit wir unsere Daten sauber splitten, werden wir einen Stratified Split machen (Zielvariablenverteilung bleibt erhalten).\n",
        "\n",
        "Wir werfen einen Blick auf unsere statistischen, beschreibenden Kennzahlen:"
      ],
      "metadata": {
        "id": "bfa42b4c"
      }
    },
    {
      "cell_type": "code",
      "execution_count": null,
      "source": [
        "description = df.describe()\n",
        "description"
      ],
      "outputs": [],
      "metadata": {
        "id": "f17e9d6e"
      }
    },
    {
      "cell_type": "markdown",
      "source": [
        "Wir interessieren uns besonders für die Quantile des `median_house_value`. Diese wollen wir nutzen, um unsere Daten zu kategorisieren und basierend auf diesen Kategorien einen Datensplit zu machen."
      ],
      "metadata": {
        "id": "b82cfc43"
      }
    },
    {
      "cell_type": "code",
      "execution_count": null,
      "source": [
        "bins = [0] + list(description[\"median_house_value\"][\n",
        "    [\"25%\", \"50%\", \"75%\"]\n",
        "].astype(int)) + [np.inf]\n",
        "print(bins) # 0 bis 119.500 = 0 - 25% Quantil, 119.500 bis 179.700 = 25 - 50% Quantil, ..."
      ],
      "outputs": [],
      "metadata": {
        "id": "ef19ffe6"
      }
    },
    {
      "cell_type": "markdown",
      "source": [
        "Wir können nun ein Hilfsattribut zum Splitten der Daten aufstellen, was Hauswerte in diskrete Kategorien einteilt:"
      ],
      "metadata": {
        "id": "27205851"
      }
    },
    {
      "cell_type": "code",
      "execution_count": null,
      "source": [
        "df[\"house_cat\"] = pd.cut(\n",
        "    df[\"median_house_value\"],\n",
        "    bins=bins,\n",
        "    labels=[\"0 - 25%\", \"25 - 50%\", \"50 - 75%\", \"75 - 100%\"]\n",
        ")"
      ],
      "outputs": [],
      "metadata": {
        "id": "fdfa2185"
      }
    },
    {
      "cell_type": "markdown",
      "source": [
        "Schauen wir uns die Verteilung auf unserem Datensatz an:"
      ],
      "metadata": {
        "id": "f2e19b5f"
      }
    },
    {
      "cell_type": "code",
      "execution_count": null,
      "source": [
        "sns.countplot(data=df, x=\"house_cat\");"
      ],
      "outputs": [],
      "metadata": {
        "id": "73efcac8"
      }
    },
    {
      "cell_type": "markdown",
      "source": [
        "Wofür haben wir dies nun gemacht? Wir können jetzt wunderbar unsere Daten so splitten, dass Trainings- und Testdaten eine gleiche (oder zumindest möglichst ähnliche) Verteilung der Zielvariable `median_house_value` besitzen:"
      ],
      "metadata": {
        "id": "98770d00"
      }
    },
    {
      "cell_type": "code",
      "execution_count": null,
      "source": [
        "split = StratifiedShuffleSplit(n_splits=1, test_size=0.1, random_state=0)\n",
        "for train_index, test_index in split.split(df, df[\"house_cat\"]):\n",
        "    df_train = df.loc[train_index]\n",
        "    df_test = df.loc[test_index]"
      ],
      "outputs": [],
      "metadata": {
        "id": "59d29275"
      }
    },
    {
      "cell_type": "markdown",
      "source": [
        "Schauen wir uns die Verteilung auf den Trainingsdaten an:"
      ],
      "metadata": {
        "id": "cfdbd9bf"
      }
    },
    {
      "cell_type": "code",
      "execution_count": null,
      "source": [
        "sns.countplot(data=df_train, x=\"house_cat\");"
      ],
      "outputs": [],
      "metadata": {
        "id": "471471eb"
      }
    },
    {
      "cell_type": "markdown",
      "source": [
        "Und auf den Testdaten:"
      ],
      "metadata": {
        "id": "ff6d2082"
      }
    },
    {
      "cell_type": "code",
      "execution_count": null,
      "source": [
        "sns.countplot(data=df_test, x=\"house_cat\");"
      ],
      "outputs": [],
      "metadata": {
        "id": "d4a4f947"
      }
    },
    {
      "cell_type": "markdown",
      "source": [
        "Nun können wir die Hilfsvariable einfach wieder aus unseren Daten entfernen, da wir unseren Datensplit vollbracht haben:"
      ],
      "metadata": {
        "id": "8c06015a"
      }
    },
    {
      "cell_type": "code",
      "execution_count": null,
      "source": [
        "df_train = df_train.drop(\"house_cat\", axis=1)\n",
        "df_test = df_test.drop(\"house_cat\", axis=1)"
      ],
      "outputs": [],
      "metadata": {
        "id": "058f9a58"
      }
    },
    {
      "cell_type": "code",
      "execution_count": null,
      "source": [],
      "outputs": [],
      "metadata": {
        "id": "PnB9BS-Hecp-"
      }
    }
  ]
}