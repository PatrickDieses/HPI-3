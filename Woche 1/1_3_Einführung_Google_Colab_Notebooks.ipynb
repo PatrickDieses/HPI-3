{
  "nbformat": 4,
  "nbformat_minor": 2,
  "metadata": {
    "accelerator": "GPU",
    "colab": {
      "name": "1.3 Einführung Google Colab Notebooks.ipynb",
      "provenance": [],
      "collapsed_sections": [],
      "include_colab_link": true
    },
    "kernelspec": {
      "display_name": "Python 3 (ipykernel)",
      "language": "python",
      "name": "python3"
    },
    "language_info": {
      "codemirror_mode": {
        "name": "ipython",
        "version": 3
      },
      "file_extension": ".py",
      "mimetype": "text/x-python",
      "name": "python",
      "nbconvert_exporter": "python",
      "pygments_lexer": "ipython3",
      "version": "3.7.10"
    }
  },
  "cells": [
    {
      "cell_type": "markdown",
      "source": [
        "<a href=\"https://colab.research.google.com/github/christianwarmuth/openhpi-kipraxis/blob/main/Woche%201/1_3_Einf%C3%BChrung_Google_Colab_Notebooks.ipynb\" target=\"_parent\"><img src=\"https://colab.research.google.com/assets/colab-badge.svg\" alt=\"Open In Colab\"/></a>"
      ],
      "metadata": {
        "id": "view-in-github",
        "colab_type": "text"
      }
    },
    {
      "cell_type": "markdown",
      "source": [
        "# Künstliche Intelligenz und Maschinelles Lernen in der Praxis: Einführung Google Colab\n",
        " ![open_hpi_logo.jpg](data:image/jpeg;base64,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)"
      ],
      "metadata": {
        "id": "8tIGYWEovWxk"
      }
    },
    {
      "cell_type": "markdown",
      "source": [
        "## 1. Kurzübersicht Google Colab\n"
      ],
      "metadata": {
        "id": "OR7mAO-s3aDw"
      }
    },
    {
      "cell_type": "markdown",
      "source": [
        "**Vorteile:**\n",
        "- Kostenlos\n",
        "- Kein Setup notwendig\n",
        "- Zugang zu GPUs/TPUs\n",
        "- Einfaches Teilen\n",
        "\n",
        "**Nachteile:**\n",
        "- Runtime max 12h (in der Free-Version)\n",
        "\n",
        "\n",
        "**Nutzungsmöglichkeiten:**\n",
        "- Zum Einstieg in die Thematik\n",
        "- Training von neuronalen Netzen auf GPUs/TPUs\n",
        "- Verbreitung der KI-Forschung\n",
        "- Erstellung von Anleitungen/Tutorials\n"
      ],
      "metadata": {
        "id": "5j1KcI8sTv7j"
      }
    },
    {
      "cell_type": "markdown",
      "source": [
        "## 1. Einfache Code-Beispiele"
      ],
      "metadata": {
        "id": "wlzOtWp1w93k"
      }
    },
    {
      "cell_type": "code",
      "execution_count": null,
      "source": [
        "print(\"Hallo Welt\")"
      ],
      "outputs": [],
      "metadata": {
        "colab": {
          "base_uri": "https://localhost:8080/"
        },
        "id": "ZV26kgT-xBe-",
        "outputId": "4c57d81f-cac9-42df-9458-dbb4662f8a51"
      }
    },
    {
      "cell_type": "markdown",
      "source": [
        "Zum Ausführen von Code/Text: Shift + Enter\n",
        "\n",
        "![enter2.jpg](data:image/jpeg;base64,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)"
      ],
      "metadata": {
        "id": "DVCAREPXx81a"
      }
    },
    {
      "cell_type": "markdown",
      "source": [
        "## 2. Einfache Text-Beispiele"
      ],
      "metadata": {
        "id": "NjSyHaxByyrN"
      }
    },
    {
      "cell_type": "markdown",
      "source": [
        "# H1 \n",
        "## H2\n",
        "### H3 \n",
        "#### H4\n",
        "\n",
        "\n",
        "\n",
        "*   Aufzählung 1\n",
        "*   Aufzählung 2\n",
        "\n",
        "\n",
        "Lorem ipsum dolor sit amet, consetetur sadipscing elitr, sed diam nonumy eirmod tempor invidunt ut labore et dolore magna aliquyam erat, sed diam voluptua. At vero eos et accusam et justo duo dolores et ea rebum. Stet clita kasd gubergren, no sea takimata sanctus est Lorem ipsum dolor sit amet. Lorem ipsum dolor sit amet, consetetur sadipscing elitr, sed diam nonumy eirmod tempor invidunt ut labore et dolore magna aliquyam erat, sed diam voluptua. At vero eos et accusam et justo duo dolores et ea rebum. Stet clita kasd gubergren, no sea takimata sanctus est Lorem ipsum dolor sit amet."
      ],
      "metadata": {
        "id": "g90_Zp_Ey4RF"
      }
    },
    {
      "cell_type": "markdown",
      "source": [
        "## 3. Visualisierungen\n"
      ],
      "metadata": {
        "id": "TUzMS6e70t8I"
      }
    },
    {
      "cell_type": "code",
      "execution_count": null,
      "source": [
        "import numpy as np\n",
        "from matplotlib import pyplot as plt\n",
        "\n",
        "ys = 100 + np.random.randn(200)\n",
        "x = [x for x in range(len(ys))]\n",
        "\n",
        "plt.plot(x, ys, '-')\n",
        "plt.fill_between(x, ys, 100, where=(ys > 100), facecolor='b', alpha=0.7)\n",
        "\n",
        "plt.title(\"Beispiel Visualisierung\")\n",
        "plt.show()"
      ],
      "outputs": [],
      "metadata": {
        "colab": {
          "base_uri": "https://localhost:8080/",
          "height": 281
        },
        "id": "40nZu54PuMAK",
        "outputId": "8d021aaa-dcaf-4d32-9510-f937d1eced16"
      }
    },
    {
      "cell_type": "markdown",
      "source": [
        "## 4. Speichern von Ergebnissen "
      ],
      "metadata": {
        "id": "0fpi6SGG0zA5"
      }
    },
    {
      "cell_type": "code",
      "execution_count": null,
      "source": [
        "from google.colab import drive\n",
        "drive.mount('/content/drive')"
      ],
      "outputs": [],
      "metadata": {
        "colab": {
          "base_uri": "https://localhost:8080/"
        },
        "id": "dFLWI0uHwqGM",
        "outputId": "21169697-a28f-4e25-8aaa-0f2b823f8860"
      }
    },
    {
      "cell_type": "code",
      "execution_count": null,
      "source": [
        "# Zugriff auf Google Drive\n",
        "import os\n",
        "os.chdir(\"drive/MyDrive\")\n",
        "\n",
        "!ls"
      ],
      "outputs": [],
      "metadata": {
        "colab": {
          "base_uri": "https://localhost:8080/"
        },
        "id": "ZGBGUzIuuV7r",
        "outputId": "1d679dfb-a290-4cb5-c54a-08c3fee801d4"
      }
    },
    {
      "cell_type": "markdown",
      "source": [
        "## 5. GPU vs. CPU"
      ],
      "metadata": {
        "id": "O4Hh57u_1XQM"
      }
    },
    {
      "cell_type": "code",
      "execution_count": null,
      "source": [
        "gpu_info = !nvidia-smi\n",
        "gpu_info = '\\n'.join(gpu_info)\n",
        "if gpu_info.find('failed') >= 0:\n",
        "  print('Bearbeiten >  Notebook Einstellungen > \"Hardwarebeschleuniger\" GPU auswählen.')\n",
        "  print('Anschließend diese Zelle erneut ausführen.')\n",
        "else:\n",
        "  print(gpu_info)"
      ],
      "outputs": [],
      "metadata": {
        "colab": {
          "base_uri": "https://localhost:8080/"
        },
        "id": "meDlmv2kvKOV",
        "outputId": "03e779cb-f03c-4356-db14-9d019fec0fb5"
      }
    },
    {
      "cell_type": "code",
      "execution_count": null,
      "source": [],
      "outputs": [],
      "metadata": {
        "id": "qCLCm6fE1W3F"
      }
    },
    {
      "cell_type": "code",
      "execution_count": null,
      "source": [],
      "outputs": [],
      "metadata": {
        "id": "wtlePPDo1Y4k"
      }
    }
  ]
}