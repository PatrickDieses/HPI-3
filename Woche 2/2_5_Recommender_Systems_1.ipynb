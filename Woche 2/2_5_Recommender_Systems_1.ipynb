{
  "cells": [
    {
      "cell_type": "markdown",
      "metadata": {
        "colab_type": "text",
        "id": "view-in-github"
      },
      "source": [
        "<a href=\"https://colab.research.google.com/github/christianwarmuth/openhpi-kipraxis/blob/main/Woche%202/2_5_Recommender_Systems_1.ipynb\" target=\"_parent\"><img src=\"https://colab.research.google.com/assets/colab-badge.svg\" alt=\"Open In Colab\"/></a>"
      ]
    },
    {
      "cell_type": "markdown",
      "id": "eb899884",
      "metadata": {
        "id": "eb899884"
      },
      "source": [
        "## Installieren aller Pakete"
      ]
    },
    {
      "cell_type": "code",
      "execution_count": null,
      "id": "445034f6",
      "metadata": {
        "id": "445034f6"
      },
      "outputs": [],
      "source": [
        "# Hier die Kaggle Credentials einfügen (ohne Anführungszeichen)\n",
        "\n",
        "%env KAGGLE_USERNAME=openhpi\n",
        "%env KAGGLE_KEY=das_ist_der_key"
      ]
    },
    {
      "cell_type": "code",
      "execution_count": null,
      "id": "9ed6ec2c",
      "metadata": {
        "id": "9ed6ec2c"
      },
      "outputs": [],
      "source": [
        "import nltk\n",
        "from nltk.corpus import stopwords\n",
        "nltk.download('stopwords')\n",
        "from nltk.tokenize import word_tokenize\n",
        "from sklearn.feature_extraction.text import TfidfVectorizer\n",
        "from sklearn.feature_extraction.text import CountVectorizer\n",
        "from sklearn.metrics.pairwise import linear_kernel\n",
        "from sklearn.neighbors import NearestNeighbors\n",
        "from scipy.sparse import csr_matrix\n",
        "\n",
        "import numpy as np\n",
        "import pandas as pd"
      ]
    },
    {
      "cell_type": "markdown",
      "id": "57a34ace",
      "metadata": {
        "id": "57a34ace"
      },
      "source": [
        "# 2.5 Recommender Systems 1: \n",
        "## Vorschlagssystem mit Content-based Filtering\n",
        "\n",
        "<img width=70% src=\"https://raw.githubusercontent.com/christianwarmuth/openhpi-kipraxis/main/images/jakob-owens-CiUR8zISX60-unsplash%20(2).jpg\">"
      ]
    },
    {
      "cell_type": "markdown",
      "id": "ff5e3bf1",
      "metadata": {
        "id": "ff5e3bf1"
      },
      "source": [
        "Datensatz: \n",
        "\n",
        "### The Movies Dataset\n",
        "Metadaten für über 45.000 Filme. 26 Millionen Bewertungen von über 270.000 NutzerInnen.\n",
        "\n",
        "Quelle: kaggle.com"
      ]
    },
    {
      "cell_type": "markdown",
      "id": "1eb217d9",
      "metadata": {
        "id": "1eb217d9"
      },
      "source": [
        "## Download Dataset "
      ]
    },
    {
      "cell_type": "markdown",
      "id": "00fc0b24",
      "metadata": {
        "id": "00fc0b24"
      },
      "source": [
        "### Manuell\n",
        "via https://www.kaggle.com/rounakbanik/the-movies-dataset"
      ]
    },
    {
      "cell_type": "markdown",
      "id": "4f172699",
      "metadata": {
        "id": "4f172699"
      },
      "source": [
        "### Via API\n",
        "\n",
        "Hinzufügen der kaggle.json\n",
        "Speichern als ~/.kaggle/kaggle.json auf Linux, OSX, oder andere UNIX-based Betriebssysteme und unter C:\\Users<Windows-username>.kaggle\\kaggle.json auf Windows\n",
        "\n",
        "Siehe https://www.kaggle.com/docs/api oder https://github.com/Kaggle/kaggle-api\n",
        "        \n",
        "Beispiel:\n",
        "~/kaggle/kaggle.json\n",
        "\n",
        "{\"username\":\"openHPI\",\"key\":\"das_ist_der_key\"}"
      ]
    },
    {
      "cell_type": "markdown",
      "id": "3edd20cd",
      "metadata": {
        "id": "3edd20cd"
      },
      "source": [
        "## Was wir erreichen wollen\n",
        "\n",
        "Wie in der Theorie-Einheit beschrieben, wollen wir Filme vorschlagen, die bisher gesehenen Filmen inhaltlich ähnlich sind. Hat Person 1 also bereits Film A gesehen, so wollen wir Filme vorschlagen, die Film A inhaltlich ähnlich sind. Was inhaltliche Ähnlichkeit genau bedeutet, kann man auf verschiedene Arten interpretieren und umsetzen - wir fokussieren uns hierbei auf die inhaltliche Ähnlichkeit der Kurzbeschreibungen der Filme. \n",
        "\n",
        "<img width=50% src=\"https://raw.githubusercontent.com/christianwarmuth/openhpi-kipraxis/main/images/content_based_filtering.jpg\">"
      ]
    },
    {
      "cell_type": "markdown",
      "id": "92f831a8",
      "metadata": {
        "id": "92f831a8"
      },
      "source": [
        "# Einlesen der Daten"
      ]
    },
    {
      "cell_type": "code",
      "execution_count": null,
      "id": "bfd8e57d",
      "metadata": {
        "id": "bfd8e57d"
      },
      "outputs": [],
      "source": [
        "!pip3 install kaggle\n",
        "!kaggle datasets download -d rounakbanik/the-movies-dataset"
      ]
    },
    {
      "cell_type": "code",
      "execution_count": null,
      "id": "m-lH0IrGr4w4",
      "metadata": {
        "id": "m-lH0IrGr4w4"
      },
      "outputs": [],
      "source": [
        "import zipfile\n",
        "with zipfile.ZipFile(\"the-movies-dataset.zip\", 'r') as zip_ref:\n",
        "    zip_ref.extractall(\"\")"
      ]
    },
    {
      "cell_type": "code",
      "execution_count": null,
      "id": "DuxsUCjesKL3",
      "metadata": {
        "id": "DuxsUCjesKL3"
      },
      "outputs": [],
      "source": [
        "import pandas as pd\n",
        "df_film_metadata = pd.read_csv(\"movies_metadata.csv\", low_memory=False)"
      ]
    },
    {
      "cell_type": "markdown",
      "id": "a64ffa14",
      "metadata": {
        "id": "a64ffa14"
      },
      "source": [
        "## Beschreibung eines Beispiel-Films:"
      ]
    },
    {
      "cell_type": "code",
      "execution_count": null,
      "id": "17dd38b7",
      "metadata": {
        "id": "17dd38b7"
      },
      "outputs": [],
      "source": [
        "print(\"Film-Titel: \" + df_film_metadata[\"title\"][9] + \"\\n\")\n",
        "print(\"Film-Beschreibung: \" + df_film_metadata[\"overview\"][9])"
      ]
    },
    {
      "cell_type": "markdown",
      "id": "c3a0f686",
      "metadata": {
        "id": "c3a0f686"
      },
      "source": [
        "Wir betrachten erneut einmal die verschiedenen Titel der Filme. Hier sieht man erneut die Gesamtanzahl aller Filme mit **45466**. Auffällig ist auch, das ein Film hier in dieser Ansicht keinen englischen Titel trägt. "
      ]
    },
    {
      "cell_type": "code",
      "execution_count": null,
      "id": "a687c986",
      "metadata": {
        "id": "a687c986"
      },
      "outputs": [],
      "source": [
        "df_film_metadata[\"original_title\"]"
      ]
    },
    {
      "cell_type": "markdown",
      "id": "9108404f",
      "metadata": {
        "id": "9108404f"
      },
      "source": [
        "Wir wollen auch kurz untersuchen, ob das für uns im Laufe der Analyse zum Problem wird. Grundsätzlich sollte man als Input eines Machine Learning Modells stets auf identische Einheiten achten und so auch auf gleiche Sprachen bei Textfeldern. Das ist hier jedoch kein Problem, da wir die Spalte mit den Original-Titeln betrachtet haben. Die Spalte \"title\" hingegen enthält den Titel in übersetzer Form und auch die \"overview\" Spalte enthält Englisch. "
      ]
    },
    {
      "cell_type": "code",
      "execution_count": null,
      "id": "5e84e7e5",
      "metadata": {
        "id": "5e84e7e5"
      },
      "outputs": [],
      "source": [
        "print(\"Original-Film-Titel: \" + df_film_metadata[\"original_title\"][45461] + \"\\n\")\n",
        "print(\"Film-Titel: \" + df_film_metadata[\"title\"][45461] + \"\\n\")\n",
        "print(\"Film-Beschreibung: \" + df_film_metadata[\"overview\"][45461])"
      ]
    },
    {
      "cell_type": "markdown",
      "id": "3c91175f",
      "metadata": {
        "id": "3c91175f"
      },
      "source": [
        "## Filtern fehlender Werte"
      ]
    },
    {
      "cell_type": "markdown",
      "id": "c42cd24d",
      "metadata": {
        "id": "c42cd24d"
      },
      "source": [
        "Da wir Filme anhand deren Kurzbeschreibung verleichen wollen, so wollen wir natürlich nur jene Filme beachten, die auch eine Beschreibung enthalten. Gibt es überhaupt Filme ohne Kurzbeschreibung?"
      ]
    },
    {
      "cell_type": "code",
      "execution_count": null,
      "id": "16893936",
      "metadata": {
        "id": "16893936"
      },
      "outputs": [],
      "source": [
        "df_film_metadata[df_film_metadata['overview'].isna()]"
      ]
    },
    {
      "cell_type": "code",
      "execution_count": null,
      "id": "ae6f5aa3",
      "metadata": {
        "id": "ae6f5aa3"
      },
      "outputs": [],
      "source": [
        "df_film_metadata = df_film_metadata[df_film_metadata['overview'].notna()]\n",
        "df_film_metadata = df_film_metadata.reset_index()"
      ]
    },
    {
      "cell_type": "markdown",
      "id": "b0c7525f",
      "metadata": {
        "id": "b0c7525f"
      },
      "source": [
        "# Ähnlichkeitsberechnungen "
      ]
    },
    {
      "cell_type": "markdown",
      "id": "856184ed",
      "metadata": {
        "id": "856184ed"
      },
      "source": [
        "Etwas Theorie: **Count Vectorizer**\n",
        "\n",
        "Bei einem Count Vectorizer konvertiert man Texte in eine Matrix mit den Anzahlen der Vorkommnisse der verschiedenen Tokens. Ein Token ist eine Sequenz von Zeichen (z.B. \"Christian\" oder \"Johannes\", jedoch kann auch \"Johannes und Christian\" ein einzelner Token sein). "
      ]
    },
    {
      "cell_type": "code",
      "execution_count": null,
      "id": "a0b1d033",
      "metadata": {
        "id": "a0b1d033"
      },
      "outputs": [],
      "source": [
        "text = [\"Künstliche Intelligenz und Maschinelles Lernen in der Praxis\", \n",
        "        \"Künstliche Intelligenz und maschinelles Lernen für Einsteiger\", \n",
        "       \"Connected Healthcare: Gesundheitsdaten im Alltag erfassen und analysieren\"]\n",
        "\n",
        "\n",
        "cv = CountVectorizer()\n",
        "count_matrix = cv.fit_transform(text)\n",
        "np.set_printoptions(precision=3)\n",
        "print(\"Feature-Names: \" + str(cv.get_feature_names()) + \"\\n\")\n",
        "print(\"Matrix: \\n\" + str(count_matrix.todense()))"
      ]
    },
    {
      "cell_type": "markdown",
      "id": "7c05318a",
      "metadata": {
        "id": "7c05318a"
      },
      "source": [
        "Etwas Theorie: **Tf-idf Vectorizer**\n",
        "\n",
        "Bei einem Tf-idf Vectorizer misst man die inverse Dokumenthäufigkeit von Tokens. Das Vorkommen von seltener Begriffe ist hier relevanter als das Vorkommen von häufigen Wörtern (z.B. \"und\" oder \"das\").\n",
        "\n",
        "Der Tf-idf Wert eines Tokens wird wie folgt berechnet:\n",
        "\n",
        "$$ TF(w,d) = \\frac{Anzahl\\; von\\; Wort\\; w\\; in\\; Dokument\\; d}{Gesamtanzahl\\; von\\; Woertern\\; in\\; Dokument\\; d} $$\n",
        "\n",
        "$$ IDF(w, D) = ln \\left ( \\;\\frac{Gesamtanzahl\\;  von\\; Dokumenten\\; (N)\\; in\\; Corpus\\; D }{Anzahl\\; von\\; Dokumenten\\; die\\; Wort\\; w\\; enthalten}\\;\\right ) $$\n",
        "\n",
        "Der Gesamtwert berechnet sich wie folgt:\n",
        "\n",
        "$$TFIDF(w,d,D) = TF(w,d) * IDF(w,D)$$\n"
      ]
    },
    {
      "cell_type": "code",
      "execution_count": null,
      "id": "d8bb876b",
      "metadata": {
        "id": "d8bb876b"
      },
      "outputs": [],
      "source": [
        "text = [\"Künstliche Intelligenz und Maschinelles Lernen in der Praxis\", \n",
        "        \"Künstliche Intelligenz und maschinelles Lernen für Einsteiger\", \n",
        "       \"Connected Healthcare: Gesundheitsdaten im Alltag erfassen und analysieren\"]\n",
        "\n",
        "\n",
        "tfidf = TfidfVectorizer()\n",
        "tfidf_matrix = tfidf.fit_transform(text)\n",
        "np.set_printoptions(precision=3)\n",
        "print(\"Feature-Names: \" + str(tfidf.get_feature_names()) + \"\\n\")\n",
        "print(\"Matrix: \\n\" + str(tfidf_matrix.todense()))"
      ]
    },
    {
      "cell_type": "markdown",
      "id": "ae41560b",
      "metadata": {
        "id": "ae41560b"
      },
      "source": [
        "# Berechnung der Ähnlichkeit auf Film-Beschreibungen"
      ]
    },
    {
      "cell_type": "code",
      "execution_count": null,
      "id": "d45dc665",
      "metadata": {
        "id": "d45dc665"
      },
      "outputs": [],
      "source": [
        "tfidf = TfidfVectorizer(stop_words='english')\n",
        "tfidf_matrix = tfidf.fit_transform(df_film_metadata['overview'])"
      ]
    },
    {
      "cell_type": "markdown",
      "id": "42080a6a",
      "metadata": {
        "id": "42080a6a"
      },
      "source": [
        "Wie viele Wörter wurden jetzt bei dieser Tfidf Vektorisierung jetzt beachtet? Dafür geben wir uns einmal die Form der resultierenden Matrix aus. Hier sehen wir, dass die Matrix 44512x75827 groß ist. 44512 ist die Anzahl der Filme, so haben wir also 75827 Features (ein Feature ist hier ein Wort). "
      ]
    },
    {
      "cell_type": "code",
      "execution_count": null,
      "id": "2bc2065d",
      "metadata": {
        "id": "2bc2065d"
      },
      "outputs": [],
      "source": [
        "tfidf_matrix.shape"
      ]
    },
    {
      "cell_type": "markdown",
      "id": "97d2dd36",
      "metadata": {
        "id": "97d2dd36"
      },
      "source": [
        "Wenn wir die Ähnlichkeiten zwischen Filmen berechnen, dann müssen wir ermöglichen, mit dem Titel auf die Positionen in der Matrix zugreifen zu können. Hierfür kreieren wir eine Art Dictionary, um von dem jeweiligen Titel auf die Position des Films zu kommen. "
      ]
    },
    {
      "cell_type": "code",
      "execution_count": null,
      "id": "d89cef70",
      "metadata": {
        "id": "d89cef70"
      },
      "outputs": [],
      "source": [
        "title_to_index = pd.Series(df_film_metadata.index, index=df_film_metadata['title'])"
      ]
    },
    {
      "cell_type": "code",
      "execution_count": null,
      "id": "e53beefb",
      "metadata": {
        "id": "e53beefb"
      },
      "outputs": [],
      "source": [
        "title_to_index"
      ]
    },
    {
      "cell_type": "markdown",
      "id": "adf38cb7",
      "metadata": {
        "id": "adf38cb7"
      },
      "source": [
        "# K-Nearest-Neighbors\n",
        "\n"
      ]
    },
    {
      "cell_type": "markdown",
      "id": "059719ab",
      "metadata": {
        "id": "059719ab"
      },
      "source": [
        "Um die Ähnlichkeiten zwischen den Filmen zu ermitteln nutzen wir den K-Nearest-Neighbor Ansatz. Als Ähnlichkeitsmaß nehmen wir die Cosine Similarity zwischen den tfidf-Vectoren. Die Cosine Similarity ist eine von vielen verschiedenen Möglichkeiten \"Ähnlichkeit in hochdimensionalem Raum\" zu berechnen."
      ]
    },
    {
      "cell_type": "code",
      "execution_count": null,
      "id": "4e06f2e1",
      "metadata": {
        "id": "4e06f2e1"
      },
      "outputs": [],
      "source": [
        "movie_matrix=csr_matrix(tfidf_matrix)\n",
        "model_knn= NearestNeighbors(metric='cosine', algorithm='auto', n_neighbors=10, n_jobs=-1)"
      ]
    },
    {
      "cell_type": "code",
      "execution_count": null,
      "id": "0e8e3621",
      "metadata": {
        "id": "0e8e3621"
      },
      "outputs": [],
      "source": [
        "def recommend_films_by_title_knn(title, data, model, n_neighbors):\n",
        "    model.fit(data)\n",
        "    movie_idx = title_to_index[title]\n",
        "    sim_scores, movie_indices = model.kneighbors(data[movie_idx], n_neighbors=n_neighbors+1)\n",
        "    sim_scores = sim_scores.squeeze().tolist()\n",
        "    recommendation_list = []\n",
        "    for idx, movie_idx in enumerate(movie_indices.squeeze().tolist()):\n",
        "        recommendation_list.append({'Title':df_film_metadata['title'][movie_idx],'Distance':sim_scores[idx]})\n",
        "    return pd.DataFrame(recommendation_list).sort_values(by=['Distance'], ascending=False).reset_index(drop=True)[:-1]"
      ]
    },
    {
      "cell_type": "markdown",
      "id": "564183fd",
      "metadata": {
        "id": "564183fd"
      },
      "source": [
        "Wir wollen uns nun einmal einen Vorschlag zu dem Film \"Golden Eye\", also einem James-Bond Film ausgeben. "
      ]
    },
    {
      "cell_type": "code",
      "execution_count": null,
      "id": "681ce00a",
      "metadata": {
        "id": "681ce00a"
      },
      "outputs": [],
      "source": [
        "recommend_films_by_title_knn(\"GoldenEye\", movie_matrix, model_knn, n_neighbors=10)"
      ]
    },
    {
      "cell_type": "markdown",
      "id": "60f34879",
      "metadata": {
        "id": "60f34879"
      },
      "source": [
        "Die Ergebnisse sehen bereits sehr gut aus - nahezu alle Filme sind tatsächlich auch aus der James Bond Reihe - inhaltlich also sehr ähnlich. Eine detailiertere Auswertung werden wir in Einheit **2.7 Ergebnis und Auswertung etwas genauer ansehen**. "
      ]
    }
  ],
  "metadata": {
    "celltoolbar": "Slideshow",
    "colab": {
      "collapsed_sections": [],
      "include_colab_link": true,
      "name": "2.5 Recommender Systems 1.ipynb",
      "provenance": []
    },
    "interpreter": {
      "hash": "949777d72b0d2535278d3dc13498b2535136f6dfe0678499012e853ee9abcab1"
    },
    "kernelspec": {
      "display_name": "Python 3.7.9 64-bit",
      "name": "python3"
    },
    "language_info": {
      "codemirror_mode": {
        "name": "ipython",
        "version": 3
      },
      "file_extension": ".py",
      "mimetype": "text/x-python",
      "name": "python",
      "nbconvert_exporter": "python",
      "pygments_lexer": "ipython3",
      "version": "3.7.9"
    }
  },
  "nbformat": 4,
  "nbformat_minor": 5
}
