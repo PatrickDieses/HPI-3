{
  "nbformat": 4,
  "nbformat_minor": 5,
  "metadata": {
    "celltoolbar": "Slideshow",
    "kernelspec": {
      "display_name": "ki-praxis",
      "language": "python",
      "name": "ki-praxis"
    },
    "language_info": {
      "codemirror_mode": {
        "name": "ipython",
        "version": 3
      },
      "file_extension": ".py",
      "mimetype": "text/x-python",
      "name": "python",
      "nbconvert_exporter": "python",
      "pygments_lexer": "ipython3",
      "version": "3.7.10"
    },
    "colab": {
      "name": "2.3 Erster Blick in die Daten.ipynb",
      "provenance": [],
      "collapsed_sections": [],
      "include_colab_link": true
    }
  },
  "cells": [
    {
      "cell_type": "markdown",
      "metadata": {
        "id": "view-in-github",
        "colab_type": "text"
      },
      "source": [
        "<a href=\"https://colab.research.google.com/github/christianwarmuth/openhpi-kipraxis/blob/main/Woche%202/2_3_Erster_Blick_in_die_Daten.ipynb\" target=\"_parent\"><img src=\"https://colab.research.google.com/assets/colab-badge.svg\" alt=\"Open In Colab\"/></a>"
      ]
    },
    {
      "cell_type": "markdown",
      "metadata": {
        "id": "eb899884"
      },
      "source": [
        "## 0. Installieren aller Pakete"
      ],
      "id": "eb899884"
    },
    {
      "cell_type": "code",
      "metadata": {
        "id": "g3avX4ANfFsc"
      },
      "source": [
        "# Hier die Kaggle Credentials einfügen (ohne Anführungszeichen)\n",
        "\n",
        "%env KAGGLE_USERNAME=openhpi\n",
        "%env KAGGLE_KEY=das_ist_der_key"
      ],
      "id": "g3avX4ANfFsc",
      "execution_count": null,
      "outputs": []
    },
    {
      "cell_type": "code",
      "metadata": {
        "id": "PHnYLCkbU9I5"
      },
      "source": [
        "!pip install quickda\n",
        "!pip install multidict"
      ],
      "id": "PHnYLCkbU9I5",
      "execution_count": null,
      "outputs": []
    },
    {
      "cell_type": "code",
      "metadata": {
        "id": "9ed6ec2c"
      },
      "source": [
        "import pandas as pd\n",
        "from quickda.explore_data import *\n",
        "from quickda.clean_data import *\n",
        "from quickda.explore_numeric import *\n",
        "from quickda.explore_categoric import *\n",
        "from quickda.explore_numeric_categoric import *\n",
        "from quickda.explore_time_series import *\n",
        "\n",
        "import nltk\n",
        "from nltk.corpus import stopwords\n",
        "nltk.download('stopwords')\n",
        "nltk.download('punkt')\n",
        "\n",
        "from nltk.tokenize import word_tokenize\n",
        "import codecs\n",
        "from wordcloud import WordCloud\n",
        "\n",
        "import multidict as multidict\n",
        "\n",
        "import numpy as np\n",
        "\n",
        "import re\n",
        "from PIL import Image\n",
        "from os import path\n",
        "from wordcloud import WordCloud\n",
        "import matplotlib.pyplot as plt\n",
        "from matplotlib import rcParams\n",
        "import string\n",
        "rcParams['figure.figsize'] = 12, 8\n",
        "\n",
        "%matplotlib inline"
      ],
      "id": "9ed6ec2c",
      "execution_count": null,
      "outputs": []
    },
    {
      "cell_type": "code",
      "metadata": {
        "id": "60217a4a"
      },
      "source": [
        "!jupyter nbextension enable --py widgetsnbextension --sys-prefix\n",
        "pd.options.mode.chained_assignment = None"
      ],
      "id": "60217a4a",
      "execution_count": null,
      "outputs": []
    },
    {
      "cell_type": "code",
      "metadata": {
        "id": "d90163f8"
      },
      "source": [
        "!jupyter nbextension enable --py widgetsnbextension"
      ],
      "id": "d90163f8",
      "execution_count": null,
      "outputs": []
    },
    {
      "cell_type": "code",
      "metadata": {
        "id": "fcee78bb"
      },
      "source": [
        "!pip3 install -r ../requirements.txt"
      ],
      "id": "fcee78bb",
      "execution_count": null,
      "outputs": []
    },
    {
      "cell_type": "code",
      "metadata": {
        "id": "c2eba58b"
      },
      "source": [
        "def getFrequencyDictForText(sentence, remove_stop_words=False):\n",
        " \n",
        "    sentence = ' '.join(sentence)\n",
        "    sentence = sentence.translate(str.maketrans('', '', string.punctuation))\n",
        "    if remove_stop_words:\n",
        "        sentence_tokenized = word_tokenize(sentence)\n",
        "        sentence = [word for word in sentence_tokenized if not word in stopwords.words()]\n",
        "        sentence = ' '.join(sentence)\n",
        "    fullTermsDict = multidict.MultiDict()\n",
        "    tmpDict = {}\n",
        "\n",
        "    for text in sentence.split(\" \"):\n",
        "        val = tmpDict.get(text, 0)\n",
        "        tmpDict[text.lower()] = val + 1\n",
        "    for key in tmpDict:\n",
        "        fullTermsDict.add(key, tmpDict[key])\n",
        "    return fullTermsDict\n",
        "\n",
        "\n",
        "def makeImage(text):\n",
        "\n",
        "    wc = WordCloud(background_color=\"white\", max_words=100)\n",
        "    # generate word cloud\n",
        "    wc.generate_from_frequencies(text)\n",
        "\n",
        "    # show\n",
        "    plt.imshow(wc, interpolation=\"bilinear\")\n",
        "    plt.axis(\"off\")\n",
        "    plt.show()\n",
        "    \n",
        "def get_film_descriptions(df):\n",
        "    sentence_list = df.dropna().tolist()\n",
        "    sentence_list_new = []\n",
        "    for line in sentence_list:\n",
        "        sentence_list_new.append(' '.join( [w for w in line.split() if len(w)>1] ))\n",
        "    pattern = '[0-9]'\n",
        "    sentence_list = [re.sub(pattern, '', str(i)) for i in sentence_list_new[:100]]\n",
        "    return sentence_list"
      ],
      "id": "c2eba58b",
      "execution_count": null,
      "outputs": []
    },
    {
      "cell_type": "markdown",
      "metadata": {
        "id": "ff5e3bf1"
      },
      "source": [
        "# 2.3 Erster Blick in die Daten\n",
        "\n",
        "<img width=70% src=\"https://raw.githubusercontent.com/christianwarmuth/openhpi-kipraxis/main/images/jakob-owens-CiUR8zISX60-unsplash%20(2).jpg\">\n",
        "\n"
      ],
      "id": "ff5e3bf1"
    },
    {
      "cell_type": "markdown",
      "metadata": {
        "id": "72045723"
      },
      "source": [
        "Datensatz: \n",
        "\n",
        "### The Movies Dataset\n",
        "Metadaten für über 45.000 Filme. 26 Millionen Bewertungen von über 270.000 NutzerInnen.\n",
        "\n",
        "Quelle: kaggle.com"
      ],
      "id": "72045723"
    },
    {
      "cell_type": "markdown",
      "metadata": {
        "id": "1eb217d9"
      },
      "source": [
        "## Download Dataset "
      ],
      "id": "1eb217d9"
    },
    {
      "cell_type": "markdown",
      "metadata": {
        "id": "00fc0b24"
      },
      "source": [
        "### Manuell\n",
        "via https://www.kaggle.com/rounakbanik/the-movies-dataset"
      ],
      "id": "00fc0b24"
    },
    {
      "cell_type": "markdown",
      "metadata": {
        "id": "4f172699"
      },
      "source": [
        "### Via API\n",
        "\n",
        "Hinzufügen der kaggle.json\n",
        "Speichern als ~/.kaggle/kaggle.json auf Linux, OSX, oder andere UNIX-based Betriebssysteme und unter C:\\Users<Windows-username>.kaggle\\kaggle.json auf Windows\n",
        "\n",
        "Siehe https://www.kaggle.com/docs/api oder https://github.com/Kaggle/kaggle-api\n",
        "        \n",
        "Beispiel:\n",
        "~/kaggle/kaggle.json\n",
        "\n",
        "{\"username\":\"openHPI\",\"key\":\"das_ist_der_key\"}"
      ],
      "id": "4f172699"
    },
    {
      "cell_type": "code",
      "metadata": {
        "id": "c1bef49c"
      },
      "source": [
        "!pip3 install kaggle\n",
        "!kaggle datasets download -d rounakbanik/the-movies-dataset"
      ],
      "id": "c1bef49c",
      "execution_count": null,
      "outputs": []
    },
    {
      "cell_type": "code",
      "metadata": {
        "id": "LQa1I8ZNftBH"
      },
      "source": [
        "import zipfile\n",
        "with zipfile.ZipFile(\"the-movies-dataset.zip\", 'r') as zip_ref:\n",
        "    zip_ref.extractall(\"\")"
      ],
      "id": "LQa1I8ZNftBH",
      "execution_count": null,
      "outputs": []
    },
    {
      "cell_type": "markdown",
      "metadata": {
        "id": "a160edae"
      },
      "source": [
        "## Übersicht über alle Dateien\n",
        "\n",
        "Zunächst sehen wir uns alle Dateien in diesem Datensatz einmal an. Wir werden für das Recommender-System hauptsächlich zwei Dateien näher ansehen: **movies_metadata.csv** und **ratings.csv**. Dafür wechseln wir zunächst in das Verzeichnis mit den Daten und lassen uns alle Dateien auflisten. Hier sieht man bereits die unterschiedliche Größe der verschiedenen Dateien."
      ],
      "id": "a160edae"
    },
    {
      "cell_type": "code",
      "metadata": {
        "id": "2c30b648"
      },
      "source": [
        "!ls -gnG"
      ],
      "id": "2c30b648",
      "execution_count": null,
      "outputs": []
    },
    {
      "cell_type": "markdown",
      "metadata": {
        "id": "92f831a8"
      },
      "source": [
        "# Film Meta-Daten\n",
        "\n",
        "Nun schauen wir genauer in die Film-Metadaten. Diese Datei werden wir hauptsächlich dazu verwenden, um die **content-based Recommendation** umzusetzen. Zunächst laden wir den Datensatz aus einer .csv-Datei. \"csv\" steht für comma-separated-values und ist ein sehr gängiges Datenformat neben z.B: .json im Machine Learning Bereich. "
      ],
      "id": "92f831a8"
    },
    {
      "cell_type": "code",
      "metadata": {
        "id": "bfd8e57d"
      },
      "source": [
        "import pandas as pd\n",
        "df_film_metadata = pd.read_csv(\"movies_metadata.csv\", low_memory=False)"
      ],
      "id": "bfd8e57d",
      "execution_count": null,
      "outputs": []
    },
    {
      "cell_type": "code",
      "metadata": {
        "id": "17dd38b7"
      },
      "source": [
        "df_film_metadata.head()"
      ],
      "id": "17dd38b7",
      "execution_count": null,
      "outputs": []
    },
    {
      "cell_type": "markdown",
      "metadata": {
        "id": "1e3e2a52"
      },
      "source": [
        "Damit wir einen besseren Überblick über alle Features gewinnen, nutzen wir eine Bibliothek, welche einfache Auswertungen bereits auf dem Datensatz und den Features für uns macht. "
      ],
      "id": "1e3e2a52"
    },
    {
      "cell_type": "code",
      "metadata": {
        "id": "7acd47fd"
      },
      "source": [
        "explore(df_film_metadata[df_film_metadata.columns.difference(['adult', \"homepage\", \"id\"])], method='profile', report_name='Report')"
      ],
      "id": "7acd47fd",
      "execution_count": null,
      "outputs": []
    },
    {
      "cell_type": "markdown",
      "metadata": {
        "id": "37fb8906"
      },
      "source": [
        "Sehen wir uns noch einmal übersichtlich alle Features an. Potentiell könnten wir hiervon mehrere Features für unsere content-based Recommendation heranziehen. Wir werden uns jedoch darauf fokussieren, Ähnlichkeit anhand der Filmbeschreibungen zu ermitteln. "
      ],
      "id": "37fb8906"
    },
    {
      "cell_type": "code",
      "metadata": {
        "id": "aa49e498"
      },
      "source": [
        "df_film_metadata.columns.tolist()"
      ],
      "id": "aa49e498",
      "execution_count": null,
      "outputs": []
    },
    {
      "cell_type": "markdown",
      "metadata": {
        "id": "942db639"
      },
      "source": [
        "Die Kurzbeschreibungen einzelner Filme findet sich in der Spalte **overview**. "
      ],
      "id": "942db639"
    },
    {
      "cell_type": "code",
      "metadata": {
        "id": "303cf34b"
      },
      "source": [
        "word_list = get_film_descriptions(df_film_metadata[\"overview\"])"
      ],
      "id": "303cf34b",
      "execution_count": null,
      "outputs": []
    },
    {
      "cell_type": "markdown",
      "metadata": {
        "id": "e7beb3d7"
      },
      "source": [
        "Wir schauen uns als Beispiel einen ganz bekannten Film an. Auf Platz 10 in unserer Liste findet sich **Golden Eye** - ein Film aus der James Bond Filmreihe. Wir nutzen hier den Index 9, da auch in Python Listen im Index mit 0 beginnen. Will man also den zehnten Eintrag erhalten, wählt man Index 9. "
      ],
      "id": "e7beb3d7"
    },
    {
      "cell_type": "code",
      "metadata": {
        "id": "a0b1d033"
      },
      "source": [
        "print(\"Film-Titel: \" + df_film_metadata[\"title\"][9] + \"\\n\")\n",
        "print(\"Film-Beschreibung: \" + word_list[9])"
      ],
      "id": "a0b1d033",
      "execution_count": null,
      "outputs": []
    },
    {
      "cell_type": "markdown",
      "metadata": {
        "id": "36c46415"
      },
      "source": [
        "Um einen Überblick über die ganzen Filme in unserem Datensatz zu gewinnen, erstellen wir eine sogenannte Wort-Wolke/Word-Cloud, die alle Wörter in den Kurzbeschreibungen enthält. "
      ],
      "id": "36c46415"
    },
    {
      "cell_type": "code",
      "metadata": {
        "id": "3c9c8b23"
      },
      "source": [
        "makeImage(getFrequencyDictForText(word_list))"
      ],
      "id": "3c9c8b23",
      "execution_count": null,
      "outputs": []
    },
    {
      "cell_type": "markdown",
      "metadata": {
        "id": "6471b9b7"
      },
      "source": [
        "Hierbei fällt allerdings auf, dass sehr viele der Woche wenig Bedeutung haben für den Inhalt. Diese sogenannten **Stopwords** filtern wir nun aus den Beschreibungen der Filme und lassen uns erneut eine Wort-Wolke anzeigen."
      ],
      "id": "6471b9b7"
    },
    {
      "cell_type": "code",
      "metadata": {
        "id": "c8ef2963"
      },
      "source": [
        "makeImage(getFrequencyDictForText(word_list, remove_stop_words=True))"
      ],
      "id": "c8ef2963",
      "execution_count": null,
      "outputs": []
    },
    {
      "cell_type": "markdown",
      "metadata": {
        "id": "6cde5024"
      },
      "source": [
        "# Film-Bewertungen der NutzerInnen\n",
        "\n",
        "\n",
        "Nun betrachten wir auch die Film-Bewertungen für das Empfehlungssystem basierend auf **Collaborative Filtering**. Auch hier laden wir zunächst mal die jeweilige Date in ein Pandas DataFrame."
      ],
      "id": "6cde5024"
    },
    {
      "cell_type": "code",
      "metadata": {
        "id": "05bd3de8"
      },
      "source": [
        "df_film_votes = pd.read_csv(\"ratings.csv\", low_memory=False)"
      ],
      "id": "05bd3de8",
      "execution_count": null,
      "outputs": []
    },
    {
      "cell_type": "markdown",
      "metadata": {
        "id": "bef27524"
      },
      "source": [
        "Mit dem Befehl **.head()** können wir uns die ersten Einträge des DataFrames anzeigen lassen und bekommen ein Gefühl dafür, wie diese Datei und der Inhalt aufgebaut ist. "
      ],
      "id": "bef27524"
    },
    {
      "cell_type": "code",
      "metadata": {
        "id": "22f96404"
      },
      "source": [
        "df_film_votes.head()"
      ],
      "id": "22f96404",
      "execution_count": null,
      "outputs": []
    },
    {
      "cell_type": "markdown",
      "metadata": {
        "id": "f59bd686"
      },
      "source": [
        "Wollen wir erfahren, wie viele einzelne NutzerInnen und Nutzer es gibt und wie viele einzelne Filme, so können wir das wie folgt machen. "
      ],
      "id": "f59bd686"
    },
    {
      "cell_type": "code",
      "metadata": {
        "id": "03ffb546"
      },
      "source": [
        "df_film_votes[[\"movieId\", \"userId\"]].nunique()"
      ],
      "id": "03ffb546",
      "execution_count": null,
      "outputs": []
    },
    {
      "cell_type": "markdown",
      "metadata": {
        "id": "c145b1b4"
      },
      "source": [
        "Da das von Bewertungsplattform zu Bewertungsplattform unterschiedlich gehandhabt wird, schauen uns wir die einzelnen Werte der Bewertungen einmal genauer an. Hier sehen wir, dass die Bewertungen in Schritten von 0,5 gegeben werden können von 0,5 bis 5,0. "
      ],
      "id": "c145b1b4"
    },
    {
      "cell_type": "code",
      "metadata": {
        "id": "bec38002"
      },
      "source": [
        "sorted(df_film_votes[\"rating\"].unique())"
      ],
      "id": "bec38002",
      "execution_count": null,
      "outputs": []
    },
    {
      "cell_type": "markdown",
      "metadata": {
        "id": "9de8eb9b"
      },
      "source": [
        "Um die Verteilung der Bewertungen einmal genauer zu sehen, geben wir uns ein sogenanntes Histogramm aus. Ein Histogramm zeigt die Häufigkeit einzelner Ausprägungen. Beispielsweise wie oft 3,0 als Bewertung gegeben wurde. "
      ],
      "id": "9de8eb9b"
    },
    {
      "cell_type": "code",
      "metadata": {
        "id": "64418585"
      },
      "source": [
        "df_film_votes[[\"rating\"]].hist()"
      ],
      "id": "64418585",
      "execution_count": null,
      "outputs": []
    }
  ]
}