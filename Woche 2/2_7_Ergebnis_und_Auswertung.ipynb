{
  "cells": [
    {
      "cell_type": "markdown",
      "metadata": {
        "colab_type": "text",
        "id": "view-in-github"
      },
      "source": [
        "<a href=\"https://colab.research.google.com/github/christianwarmuth/openhpi-kipraxis/blob/main/Woche%202/2_7_Ergebnis_und_Auswertung.ipynb\" target=\"_parent\"><img src=\"https://colab.research.google.com/assets/colab-badge.svg\" alt=\"Open In Colab\"/></a>"
      ]
    },
    {
      "cell_type": "markdown",
      "id": "a63a217a",
      "metadata": {
        "id": "a63a217a"
      },
      "source": [
        "## Installieren aller Pakete"
      ]
    },
    {
      "cell_type": "code",
      "execution_count": null,
      "id": "83b0780b",
      "metadata": {
        "id": "83b0780b"
      },
      "outputs": [],
      "source": [
        "# Hier die Kaggle Credentials einfügen (ohne Anführungszeichen)\n",
        "\n",
        "%env KAGGLE_USERNAME=openhpi\n",
        "%env KAGGLE_KEY=das_ist_der_key"
      ]
    },
    {
      "cell_type": "code",
      "execution_count": null,
      "id": "11d186e3",
      "metadata": {
        "id": "11d186e3"
      },
      "outputs": [],
      "source": [
        "import nltk\n",
        "from nltk.corpus import stopwords\n",
        "nltk.download('stopwords')\n",
        "from nltk.tokenize import word_tokenize\n",
        "from sklearn.feature_extraction.text import TfidfVectorizer\n",
        "from sklearn.feature_extraction.text import CountVectorizer\n",
        "from sklearn.metrics.pairwise import linear_kernel\n",
        "\n",
        "from sklearn.metrics import mean_squared_error\n",
        "from sklearn.metrics.pairwise import cosine_similarity\n",
        "from sklearn.neighbors import NearestNeighbors\n",
        "from scipy.sparse import csr_matrix\n",
        "\n",
        "import matplotlib.pyplot as plt\n",
        "\n",
        "import numpy as np\n",
        "import pandas as pd\n",
        "\n",
        "from keras.layers import Input, Embedding, Reshape, Dot, Concatenate, Dense, Dropout\n",
        "from keras.models import Model\n",
        "\n",
        "from sklearn.decomposition import NMF\n",
        "\n",
        "import tensorflow as tf\n",
        "\n",
        "tf.compat.v1.logging.set_verbosity(tf.compat.v1.logging.ERROR)\n",
        "\n",
        "import numpy as np\n",
        "import pandas as pd\n",
        "\n",
        "plt.rcParams['figure.figsize'] = [5, 3]\n",
        "plt.rcParams['figure.dpi'] = 150 "
      ]
    },
    {
      "cell_type": "markdown",
      "id": "3142482d",
      "metadata": {
        "id": "3142482d"
      },
      "source": [
        "# Content-based Filtering"
      ]
    },
    {
      "cell_type": "code",
      "execution_count": null,
      "id": "245bfa32",
      "metadata": {
        "id": "245bfa32"
      },
      "outputs": [],
      "source": [
        "!pip3 install kaggle\n",
        "!kaggle datasets download -d rounakbanik/the-movies-dataset"
      ]
    },
    {
      "cell_type": "code",
      "execution_count": null,
      "id": "qESmflx93Mg7",
      "metadata": {
        "id": "qESmflx93Mg7"
      },
      "outputs": [],
      "source": [
        "import zipfile\n",
        "with zipfile.ZipFile(\"the-movies-dataset.zip\", 'r') as zip_ref:\n",
        "    zip_ref.extractall(\"\")"
      ]
    },
    {
      "cell_type": "code",
      "execution_count": null,
      "id": "t6bglyEi3OuB",
      "metadata": {
        "id": "t6bglyEi3OuB"
      },
      "outputs": [],
      "source": [
        "df_film_metadata = pd.read_csv(\"movies_metadata.csv\", low_memory=False)"
      ]
    },
    {
      "cell_type": "code",
      "execution_count": null,
      "id": "0d27ee96",
      "metadata": {
        "id": "0d27ee96"
      },
      "outputs": [],
      "source": [
        "df_film_metadata = df_film_metadata[df_film_metadata['overview'].notna()]\n",
        "df_film_metadata = df_film_metadata.reset_index()\n",
        "\n",
        "tfidf = TfidfVectorizer(stop_words='english')\n",
        "tfidf_matrix = tfidf.fit_transform(df_film_metadata['overview'])\n",
        "\n",
        "title_to_index = pd.Series(df_film_metadata.index, index=df_film_metadata['title'])\n",
        "\n",
        "movie_matrix=csr_matrix(tfidf_matrix)\n",
        "model_knn= NearestNeighbors(metric='cosine', algorithm='auto', n_neighbors=10, n_jobs=-1)\n",
        "\n",
        "def recommend_films_by_title_knn(title, data, model, n_neighbors):\n",
        "    model.fit(data)\n",
        "    movie_idx = title_to_index[title]\n",
        "    sim_scores, movie_indices = model.kneighbors(data[movie_idx], n_neighbors=n_neighbors+1)\n",
        "    sim_scores = sim_scores.squeeze().tolist()\n",
        "    recommendation_list = []\n",
        "    for idx, movie_idx in enumerate(movie_indices.squeeze().tolist()):\n",
        "        recommendation_list.append({'Title':df_film_metadata['title'][movie_idx],'Similarity':sim_scores[idx]})\n",
        "    return pd.DataFrame(recommendation_list).sort_values(by=['Similarity'], ascending=False).reset_index(drop=True)[:-1]"
      ]
    },
    {
      "cell_type": "markdown",
      "id": "92d36439",
      "metadata": {
        "id": "92d36439"
      },
      "source": [
        "# Collaborative Filtering"
      ]
    },
    {
      "cell_type": "code",
      "execution_count": null,
      "id": "7cadb35a",
      "metadata": {
        "id": "7cadb35a"
      },
      "outputs": [],
      "source": [
        "df_film_ratings = pd.read_csv(\"ratings_small.csv\", low_memory=False)"
      ]
    },
    {
      "cell_type": "code",
      "execution_count": null,
      "id": "59e29d70",
      "metadata": {
        "id": "59e29d70"
      },
      "outputs": [],
      "source": [
        "df_film_ratings = df_film_ratings.drop(\"timestamp\", axis=1) # Entfernen des Spalte Timestamp\n",
        "df_film_ratings = df_film_ratings.sample(frac=1).reset_index(drop=True) # Durchmischen der Bewertungen\n",
        "\n",
        "split_factor = 0.2\n",
        "n = int(split_factor*len(df_film_ratings))\n",
        "\n",
        "df_train = df_film_ratings[:-n]\n",
        "df_test = df_film_ratings[-n:]\n",
        "\n",
        "# Credits: https://www.kaggle.com/morrisb/how-to-recommend-anything-deep-recommender\n",
        "\n",
        "def mf_model(df, train, test,  emb_size=20):\n",
        "    # Create user- & movie-id mapping\n",
        "    user_id_mapping = {id:i for i, id in enumerate(df['userId'].unique())}\n",
        "    movie_id_mapping = {id:i for i, id in enumerate(df['movieId'].unique())}\n",
        "    \n",
        "    \n",
        "    # Create correctly mapped train- & testset\n",
        "    train_user_data = train['userId'].map(user_id_mapping)\n",
        "    train_movie_data = train['movieId'].map(movie_id_mapping)\n",
        "    \n",
        "    test_user_data = test['userId'].map(user_id_mapping)\n",
        "    test_movie_data = test['movieId'].map(movie_id_mapping)\n",
        "    \n",
        "    \n",
        "    # Get input variable-sizes\n",
        "    users = len(user_id_mapping)\n",
        "    movies = len(movie_id_mapping)\n",
        "    embedding_size = emb_size\n",
        "    \n",
        "    \n",
        "    ##### Create model\n",
        "    # Set input layers\n",
        "    user_id_input = Input(shape=[1], name='user')\n",
        "    movie_id_input = Input(shape=[1], name='movie')\n",
        "    \n",
        "    # Create embedding layers for users and movies\n",
        "    user_embedding = Embedding(output_dim=embedding_size, \n",
        "                               input_dim=users,\n",
        "                               input_length=1, \n",
        "                               name='user_embedding')(user_id_input)\n",
        "    movie_embedding = Embedding(output_dim=embedding_size, \n",
        "                                input_dim=movies,\n",
        "                                input_length=1, \n",
        "                                name='item_embedding')(movie_id_input)\n",
        "    \n",
        "    # Reshape the embedding layers\n",
        "    user_vector = Reshape([embedding_size])(user_embedding)\n",
        "    movie_vector = Reshape([embedding_size])(movie_embedding)\n",
        "    \n",
        "    # Compute dot-product of reshaped embedding layers as prediction\n",
        "    y = Dot(1, normalize=False)([user_vector, movie_vector])\n",
        "    \n",
        "    # Setup model\n",
        "    model = Model(inputs=[user_id_input, movie_id_input], outputs=y)\n",
        "    model.compile(loss='mse', optimizer='adam')\n",
        "    return train_user_data, train_movie_data, test_user_data, test_movie_data, model\n",
        "\n",
        "train_user_data, train_movie_data, test_user_data, test_movie_data, model = mf_model(df_film_ratings, df_train, df_test)\n",
        "\n",
        "history = model.fit([train_user_data, train_movie_data],\n",
        "          df_train['rating'],\n",
        "          batch_size=256, \n",
        "          validation_split=0.1,\n",
        "          epochs=10,\n",
        "          shuffle=True)"
      ]
    },
    {
      "cell_type": "markdown",
      "id": "d1f000c7",
      "metadata": {
        "id": "d1f000c7"
      },
      "source": [
        "# 2.7 Ergebnis und Auswertung\n",
        "\n",
        "<img width=70% src=\"https://raw.githubusercontent.com/christianwarmuth/openhpi-kipraxis/main/images/jakob-owens-CiUR8zISX60-unsplash%20(2).jpg\">\n"
      ]
    },
    {
      "cell_type": "markdown",
      "id": "dfb5055a",
      "metadata": {
        "id": "dfb5055a"
      },
      "source": [
        "In diesem Notebook wollen wir einmal das erstellte Content-based Recommendation System und das Collaborative Filtering Recommendation System auswerten. Auch wenn wir in beiden Fällen jeweils Vorschläge für Filme geben, werden wir sehen, dass die Möglichkeiten zur Auswertung sich deutlich unterscheiden werden. "
      ]
    },
    {
      "cell_type": "markdown",
      "id": "3f9cfddb",
      "metadata": {
        "id": "3f9cfddb"
      },
      "source": [
        "## Content-based Recommendation - Ergebnis und Auswertung"
      ]
    },
    {
      "cell_type": "markdown",
      "id": "fe118429",
      "metadata": {
        "id": "fe118429"
      },
      "source": [
        "Die verwendete Content-based Recommendation ist eine unsupervised Machine Learning Technik. Wir haben hierbei keinerlei Labels, ob ein Film einem anderen inhaltlich ähnlich ist. Die inhaltiche Ähnlichkeit ist daher sehr schwer zu überprüfen. Bei unsupervised Techniken ist es meist nur für Domain-Experten möglich, die \"Güte\" der Ergebnisse zu bewerten."
      ]
    },
    {
      "cell_type": "markdown",
      "id": "9bbca97e",
      "metadata": {
        "id": "9bbca97e"
      },
      "source": [
        "Wir können uns erneut einmal die Vorschläge zu dem Film \"Golden Eye\" ausgeben lassen. Golden Eye ist ein Film aus der James Bond Reihe. Wir sehen hier, dass viele der Vorschläge tatsächlich andere James Bond Filme sind (z.B: Casion Royale, Never Say Never Again, You Only Live Twice, Octopussy, Live and Let Die, Licence to Kill)."
      ]
    },
    {
      "cell_type": "code",
      "execution_count": null,
      "id": "3e121ea8",
      "metadata": {
        "id": "3e121ea8"
      },
      "outputs": [],
      "source": [
        "recommend_films_by_title_knn(\"GoldenEye\", movie_matrix, model_knn, n_neighbors=10)"
      ]
    },
    {
      "cell_type": "markdown",
      "id": "90f4ca3e",
      "metadata": {
        "id": "90f4ca3e"
      },
      "source": [
        "Nun sehen wir uns einmal die Kurzbeschreibungen der Filme in der Liste an, die keine James Bond Filme sind. Das gibt uns vielleicht einen Hinweis, warum die Filme inhaltlich ähnlich zu James Bond Filmen gesehen werden.  "
      ]
    },
    {
      "cell_type": "code",
      "execution_count": null,
      "id": "bc5fecf2",
      "metadata": {
        "id": "bc5fecf2"
      },
      "outputs": [],
      "source": [
        "print(\"The Way of the Dragon: \" + df_film_metadata[\"overview\"][title_to_index[\"The Way of the Dragon\"]] + \"\\n\")\n",
        "print(\"Johnny Stool Pigeon: \" + df_film_metadata[\"overview\"][title_to_index[\"Johnny Stool Pigeon\"]] + \"\\n\")\n",
        "print(\"Doctor X: \" + df_film_metadata[\"overview\"][title_to_index[\"Doctor X\"]] + \"\\n\")\n",
        "print(\"Dream Work: \" + df_film_metadata[\"overview\"][title_to_index[\"Dream Work\"]] + \"\\n\")"
      ]
    },
    {
      "cell_type": "markdown",
      "id": "1c45d364",
      "metadata": {
        "id": "1c45d364"
      },
      "source": [
        "Es wäre allerdings sehr falsch, unsere Bewertung unserer Ergebnisse nur anhand eines Vorschlages zu testen. Daher geben wir uns weitere Vorschläge zu weiteren bekannten Filmen aus. Hier sieht man jedoch ein besseres Ergebnis, da alle Filme zumindest einmal den Titel Batman tragen. Interessant ist hier zu sehen, dass teilweise Comic-Filme, Dokumentationen über die Personen hinter Batman und alte und neue Batman Filme vertreten sind.  "
      ]
    },
    {
      "cell_type": "code",
      "execution_count": null,
      "id": "632387a1",
      "metadata": {
        "id": "632387a1"
      },
      "outputs": [],
      "source": [
        "recommend_films_by_title_knn(\"Batman Begins\", movie_matrix, model_knn, n_neighbors=10)"
      ]
    },
    {
      "cell_type": "markdown",
      "id": "30ed3685",
      "metadata": {
        "id": "30ed3685"
      },
      "source": [
        "Als letztes Experiment sehen wir uns einen weiteren Film-Klassiker an:"
      ]
    },
    {
      "cell_type": "code",
      "execution_count": null,
      "id": "b2491f7b",
      "metadata": {
        "id": "b2491f7b"
      },
      "outputs": [],
      "source": [
        "recommend_films_by_title_knn(\"Star Wars: Episode II - Attack of the Clones\", movie_matrix, model_knn, n_neighbors=10)"
      ]
    },
    {
      "cell_type": "markdown",
      "id": "3ad7e7c4",
      "metadata": {
        "id": "3ad7e7c4"
      },
      "source": [
        "Abschließend sollten wir erneut festhalten: Die \"Güte\" von unsupervised Modellen ist ohne Domain-Wissen sehr schwer bewertbar. Wenn man einen unsupervised Ansatz plant einzusetzen, so sollte man sich stets über die anschließende Evaluation Gedanken machen. "
      ]
    },
    {
      "cell_type": "markdown",
      "id": "6dc92123",
      "metadata": {
        "id": "6dc92123"
      },
      "source": [
        "## Collaborative Filtering - Ergebnis und Auswertung"
      ]
    },
    {
      "cell_type": "markdown",
      "id": "5004298d",
      "metadata": {
        "id": "5004298d"
      },
      "source": [
        "Im Gegensatz zum vorgestellten Content-based Ansatz, haben wir für den Collaborative Filtering Ansatz sogenannte Labels. Wir wir bereits in der Session 2.6 erwähnt haben, teilen wir hier auch den Datensatz in \"Test\" und \"Training\". In diesem Fall sind die Ergebnisse weniger einfach \"interpretierbar\", doch haben wir in diesem Fall eine \"Ground Truth\" - also die Bewertung die wirklich gegeben wurde. Als Metrik zur Bewertung der \"Modell-Güte\" betrachten wir den Root Mean Squared Error, der die Abweichung des vorhergesagten Wertes vom tatsächlichen Wert beschreibt. "
      ]
    },
    {
      "cell_type": "markdown",
      "id": "c0afdb56",
      "metadata": {
        "id": "c0afdb56"
      },
      "source": [
        "Um das Modell-Training etwas genauer zu verstehen, können wir uns einmal die Kurve der Loss-Funktion über das Training hinweg ansehen. Der Loss beschreibt den \"Fehler\" (Abweichung wahrer Wert vs. Vorhersage), der während des Trainings (in diesem Falle) entweder auf den Trainings oder den Validierungsdaten existiert. Man sollte das Training erst beenden, wenn sich dieser Wert nur noch sehr minimal verändert."
      ]
    },
    {
      "cell_type": "code",
      "execution_count": null,
      "id": "ab36614d",
      "metadata": {
        "id": "ab36614d"
      },
      "outputs": [],
      "source": [
        "plt.plot(history.history['loss'])\n",
        "plt.plot(history.history['val_loss'])\n",
        "plt.title('Training Loss')\n",
        "plt.ylabel('loss')\n",
        "plt.xlabel('epoch')\n",
        "plt.legend(['train', 'validation'], loc='upper left')"
      ]
    },
    {
      "cell_type": "code",
      "execution_count": null,
      "id": "a9f4ab2e",
      "metadata": {
        "id": "a9f4ab2e"
      },
      "outputs": [],
      "source": [
        "# Test model\n",
        "y_pred = model.predict([test_user_data, test_movie_data])\n",
        "y_true = df_test['rating'].values\n",
        "\n",
        "#  Berechne Root Mean Squared Error\n",
        "rmse = np.sqrt(mean_squared_error(y_pred=y_pred, y_true=y_true))\n",
        "print('RMSE: '+ str(rmse))"
      ]
    },
    {
      "cell_type": "code",
      "execution_count": null,
      "id": "d4bdd587",
      "metadata": {
        "id": "d4bdd587"
      },
      "outputs": [],
      "source": [
        "print(\"Wahrer Wert: \" + str(y_true[3]) + \"\\n\") \n",
        "print(\"Vorhersage:  \" + str(y_pred[3][0]))"
      ]
    },
    {
      "cell_type": "markdown",
      "id": "5e34a19d",
      "metadata": {
        "id": "5e34a19d"
      },
      "source": [
        "Auch wenn die obere Art der Auswertung eingängier zu sein scheint, ist die Auswertung des Collaborative Filtering Ansatzes natürlich deutlich objektiver, da wir die wahren Lables/Bewertungen haben und uns damit vergleichen können. "
      ]
    }
  ],
  "metadata": {
    "celltoolbar": "Slideshow",
    "colab": {
      "collapsed_sections": [],
      "include_colab_link": true,
      "name": "2.7 Ergebnis und Auswertung.ipynb",
      "provenance": []
    },
    "interpreter": {
      "hash": "949777d72b0d2535278d3dc13498b2535136f6dfe0678499012e853ee9abcab1"
    },
    "kernelspec": {
      "display_name": "Python 3.7.9 64-bit",
      "name": "python3"
    },
    "language_info": {
      "codemirror_mode": {
        "name": "ipython",
        "version": 3
      },
      "file_extension": ".py",
      "mimetype": "text/x-python",
      "name": "python",
      "nbconvert_exporter": "python",
      "pygments_lexer": "ipython3",
      "version": "3.7.9"
    }
  },
  "nbformat": 4,
  "nbformat_minor": 5
}
